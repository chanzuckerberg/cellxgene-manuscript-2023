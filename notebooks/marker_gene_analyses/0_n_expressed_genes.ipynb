{
 "cells": [
  {
   "cell_type": "code",
   "execution_count": 0,
   "metadata": {
    "application/vnd.databricks.v1+cell": {
     "cellMetadata": {
      "byteLimit": 2048000,
      "rowLimit": 10000
     },
     "inputWidgets": {},
     "nuid": "c276337b-789a-4216-905b-629325c6690d",
     "showTitle": false,
     "title": ""
    }
   },
   "outputs": [],
   "source": [
    "import cellxgene_census\n",
    "import numpy as np\n",
    "import numba as nb\n",
    "import scanpy as sc\n",
    "import json\n",
    "import scipy\n",
    "from scipy import stats\n",
    "import pandas as pd\n",
    "from collections import defaultdict\n",
    "from random import choices"
   ]
  },
  {
   "cell_type": "markdown",
   "metadata": {
    "application/vnd.databricks.v1+cell": {
     "cellMetadata": {
      "byteLimit": 2048000,
      "rowLimit": 10000
     },
     "inputWidgets": {},
     "nuid": "fd79563f-1630-42e0-8113-591ec38b14fa",
     "showTitle": false,
     "title": ""
    }
   },
   "source": [
    "## Get all human cell metadata in a dataframe"
   ]
  },
  {
   "cell_type": "code",
   "execution_count": 0,
   "metadata": {
    "application/vnd.databricks.v1+cell": {
     "cellMetadata": {
      "byteLimit": 2048000,
      "rowLimit": 10000
     },
     "inputWidgets": {},
     "nuid": "bb5b9692-2afe-409d-a85f-51cd9fddff88",
     "showTitle": false,
     "title": ""
    }
   },
   "outputs": [],
   "source": [
    "census = cellxgene_census.open_soma(census_version=\"2023-10-18\")\n",
    "\n",
    "columns_needed = ['assay', 'tissue', 'disease', 'cell_type_ontology_term_id', 'n_measured_vars', 'is_primary_data', 'nnz', 'soma_joinid']\n",
    "\n",
    "human_obs_df = census['census_data']['homo_sapiens']['obs'].read().concat().to_pandas()\n",
    "human_obs_df = human_obs_df[columns_needed]"
   ]
  },
  {
   "cell_type": "markdown",
   "metadata": {
    "application/vnd.databricks.v1+cell": {
     "cellMetadata": {
      "byteLimit": 2048000,
      "rowLimit": 10000
     },
     "inputWidgets": {},
     "nuid": "b13525d8-005f-4e71-a2ad-35e6db691981",
     "showTitle": false,
     "title": ""
    }
   },
   "source": [
    "## Filter the metadata to define which slice of the data to retrieve\n",
    "- Only tissues where we have overlapping cell types with hubmap\n",
    "- Min 500 expressed genes per cell\n",
    "- From an accepted assay\n",
    "- Healthy cells only (for marker genes)\n",
    "- Is primary data"
   ]
  },
  {
   "cell_type": "code",
   "execution_count": 0,
   "metadata": {
    "application/vnd.databricks.v1+cell": {
     "cellMetadata": {
      "byteLimit": 2048000,
      "rowLimit": 10000
     },
     "inputWidgets": {},
     "nuid": "0f3c2f15-7dac-415d-86cf-d826185088e7",
     "showTitle": false,
     "title": ""
    }
   },
   "outputs": [],
   "source": [
    "overlapping_categories = json.load(open('/dbfs/FileStore/users/sbell/2023-08_norm_characterization/data_tidy/overlapping_categories.json', 'r'))\n",
    "\n",
    "accepted_assays = ['sci-RNA-seq', 'Seq-Well', 'Drop-seq', 'CEL-seq2', \n",
    "            \"10x 3' v1\", \"10x 5' v1\", \"10x 3' v2\", \"10x 5' v2\", \"10x 3' v3\", \n",
    "            \"10x 3' transcription profiling\", \"10x 5' transcription profiling\", \"10x technology\"]\n",
    "\n",
    "NUM_MIN_EXPRESSED_GENES = 500"
   ]
  },
  {
   "cell_type": "code",
   "execution_count": 0,
   "metadata": {
    "application/vnd.databricks.v1+cell": {
     "cellMetadata": {
      "byteLimit": 2048000,
      "rowLimit": 10000
     },
     "inputWidgets": {},
     "nuid": "d8b6c892-d166-45e8-8bea-d3b3e6d7333e",
     "showTitle": false,
     "title": ""
    }
   },
   "outputs": [],
   "source": [
    "filtered_human_obs_df = human_obs_df.loc[\n",
    "    (human_obs_df['assay'].isin(accepted_assays)) & \n",
    "    (human_obs_df['disease'] == 'normal') &\n",
    "    (human_obs_df['is_primary_data'] == True) & \n",
    "    (human_obs_df['nnz'] >= NUM_MIN_EXPRESSED_GENES) # cell is expressing (count > 0) at least N genes\n",
    "]"
   ]
  },
  {
   "cell_type": "code",
   "execution_count": 0,
   "metadata": {
    "application/vnd.databricks.v1+cell": {
     "cellMetadata": {
      "byteLimit": 2048000,
      "rowLimit": 10000
     },
     "inputWidgets": {},
     "nuid": "0c345721-a1cc-49ee-b8ee-3953dabdd566",
     "showTitle": false,
     "title": ""
    }
   },
   "outputs": [],
   "source": [
    "def subsample_join_ids(join_ids, max_n=100000):\n",
    "    if len(join_ids) > max_n:\n",
    "        print('found %d ids'%len(join_ids))\n",
    "        subsampled_join_ids = choices(join_ids, k=max_n)\n",
    "        return subsampled_join_ids\n",
    "    else:\n",
    "        return join_ids\n",
    "\n",
    "def get_n_expressed_genes(join_ids):\n",
    "    if len(join_ids) == 0:\n",
    "        return 0\n",
    "    adata = cellxgene_census.get_anndata(census, \"Homo sapiens\", obs_coords=join_ids) # [n_cells x n genes]\n",
    "    total_expression_per_gene = adata.X.sum(axis=0) # sum across cells for each gene\n",
    "    nz_expressed_genes_mask = total_expression_per_gene > 0 # [[True False True True ...]]\n",
    "    expressed_genes = np.squeeze(np.asarray(nz_expressed_genes_mask)) # [True False True True ...]\n",
    "    return expressed_genes.sum() # 1 + 0 + 1 + 1 + ... = 3 + ..."
   ]
  },
  {
   "cell_type": "code",
   "execution_count": 0,
   "metadata": {
    "application/vnd.databricks.v1+cell": {
     "cellMetadata": {
      "byteLimit": 2048000,
      "rowLimit": 10000
     },
     "inputWidgets": {},
     "nuid": "bf1f931b-ef5c-403d-89a2-e07ff094cfb8",
     "showTitle": false,
     "title": ""
    },
    "jupyter": {
     "outputs_hidden": true
    }
   },
   "outputs": [
    {
     "output_type": "stream",
     "name": "stdout",
     "output_type": "stream",
     "text": [
      "lung\n6573\n13841\n2602\n1201\n11010\n55539\n7675\nfinished for tissue  lung\npancreas\n0\nfinished for tissue  pancreas\nplacenta\n8816\n0\n3829\nfinished for tissue  placenta\nbone marrow\n413\n2847\n676\n1614\n509\n1014\n7459\n518\n0\n6017\n200\n0\n146\n7932\n1906\n2039\n343\n789\n1084\n497\n581\n1344\n2293\n17114\n10089\n1383\n2221\n3667\n0\n4590\n629\n6684\nfinished for tissue  bone marrow\nlarge intestine\n476\n134\n114\nfinished for tissue  large intestine\nblood\n8474\n974\n29\n19392\n955\n28612\n13938\n72801\n138293\n166358\n7678\n64126\n4046\nfinished for tissue  blood\nbrain\n0\n0\n0\n0\n0\n0\n0\n0\n0\n0\n0\n0\n0\nfinished for tissue  brain\nimmune system\n0\n0\n0\n0\nfinished for tissue  immune system\nspinal cord\n5819\nfinished for tissue  spinal cord\nrespiratory system\n0\n0\n0\n0\n0\n0\nfinished for tissue  respiratory system\nheart\n42\n11319\n0\n0\nfinished for tissue  heart\nlymph node\n3\n132\n0\n108\n144\n2762\n1179\n2070\n1282\n3\n308\n94\n0\nfinished for tissue  lymph node\nsmall intestine\n6456\n5332\n8726\nfinished for tissue  small intestine\nkidney\n0\n5\n74\n926\n233\n0\n0\n3522\n0\n1502\n158\n536\n340\n2058\n57\n2270\n481\n4508\n277\n471\n574\n675\n468\n234\nfinished for tissue  kidney\n"
     ]
    }
   ],
   "source": [
    "n_expressed_genes = defaultdict(dict) #{tissue: {cl: int}}\n",
    "\n",
    "for tissue, cls in overlapping_categories.items():\n",
    "    print(tissue)\n",
    "    tissue_df = filtered_human_obs_df.loc[(\n",
    "            filtered_human_obs_df['tissue'] == tissue\n",
    "        )]\n",
    "    for cl in cls:\n",
    "        cl_df = tissue_df.loc[tissue_df['cell_type_ontology_term_id'] == cl]\n",
    "        cl_joinids = cl_df['soma_joinid'].values\n",
    "        n_expressed_genes[tissue][cl] = str(get_n_expressed_genes(cl_joinids))"
   ]
  },
  {
   "cell_type": "code",
   "execution_count": 0,
   "metadata": {
    "application/vnd.databricks.v1+cell": {
     "cellMetadata": {
      "byteLimit": 2048000,
      "rowLimit": 10000
     },
     "inputWidgets": {},
     "nuid": "d6651234-5957-4d5b-8197-b587d61958b6",
     "showTitle": false,
     "title": ""
    }
   },
   "outputs": [],
   "source": [
    "json.dump(n_expressed_genes, open('/dbfs/FileStore/users/sbell/2023-08_norm_characterization/data_tidy/n_expressed_genes.json', 'w'))"
   ]
  }
 ],
 "metadata": {
  "application/vnd.databricks.v1+notebook": {
   "dashboards": [],
   "language": "python",
   "notebookMetadata": {
    "pythonIndentUnit": 4
   },
   "notebookName": "0_n_expressed_genes",
   "widgets": {}
  },
  "kernelspec": {
   "display_name": "Python 3 (ipykernel)",
   "language": "python",
   "name": "python3"
  },
  "language_info": {
   "codemirror_mode": {
    "name": "ipython",
    "version": 3
   },
   "file_extension": ".py",
   "mimetype": "text/x-python",
   "name": "python",
   "nbconvert_exporter": "python",
   "pygments_lexer": "ipython3",
   "version": "3.10.9"
  }
 },
 "nbformat": 4,
 "nbformat_minor": 0
}
