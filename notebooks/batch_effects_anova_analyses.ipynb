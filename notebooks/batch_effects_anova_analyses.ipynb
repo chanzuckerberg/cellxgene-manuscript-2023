{
 "cells": [
  {
   "cell_type": "markdown",
   "metadata": {
    "application/vnd.databricks.v1+cell": {
     "cellMetadata": {
      "byteLimit": 2048000,
      "rowLimit": 10000
     },
     "inputWidgets": {},
     "nuid": "f06be01a-c2f9-431e-8392-e35b01d4e993",
     "showTitle": false,
     "title": ""
    }
   },
   "source": [
    "# ANOVA on average normalized gene expression values\n",
    "Results for one-way repeated measures ANOVA scores conducted on marker and housekeeping genes in five different cell types <br>\n",
    "Note that throughout the notebook, we use *'rankit'* and *'quantile normalization'* interchangeably. A brief overview can be found <a href = 'https://en.wikipedia.org/wiki/Quantile_normalization'>here</a>."
   ]
  },
  {
   "cell_type": "code",
   "execution_count": 18,
   "metadata": {
    "application/vnd.databricks.v1+cell": {
     "cellMetadata": {
      "byteLimit": 2048000,
      "rowLimit": 10000
     },
     "inputWidgets": {},
     "nuid": "aca94aee-455c-4e05-9d76-b95a19d8fda3",
     "showTitle": false,
     "title": ""
    }
   },
   "outputs": [],
   "source": [
    "import json\n",
    "import plotly.figure_factory as ff\n",
    "import plotly.express as px\n",
    "import pingouin as pg\n",
    "import plotly.graph_objects as go\n",
    "import numpy as np\n",
    "np.random.seed(123)\n",
    "import plotly.offline as pyo"
   ]
  },
  {
   "cell_type": "markdown",
   "metadata": {
    "application/vnd.databricks.v1+cell": {
     "cellMetadata": {
      "byteLimit": 2048000,
      "rowLimit": 10000
     },
     "inputWidgets": {},
     "nuid": "01d459b1-f626-4387-81f5-f327fdaafb7e",
     "showTitle": false,
     "title": ""
    }
   },
   "source": [
    "## Marker + Housekeeping Genes"
   ]
  },
  {
   "cell_type": "code",
   "execution_count": 2,
   "metadata": {
    "application/vnd.databricks.v1+cell": {
     "cellMetadata": {
      "byteLimit": 2048000,
      "rowLimit": 10000
     },
     "inputWidgets": {},
     "nuid": "1f7dd2f6-7786-4c44-ac27-771aa914b5e9",
     "showTitle": false,
     "title": ""
    }
   },
   "outputs": [],
   "source": [
    "NUM_MIN_EXPRESSED_GENES_PER_CELL = 500\n",
    "NUM_MIN_ULTRA_LOW_EXPRESSED_GENES = 2\n",
    "CENSUS_VERSION = \"2023-10-18\"\n",
    "ASSAYS = ['sci-RNA-seq', 'Seq-Well', 'Drop-seq', 'CEL-seq2', \"10x 3\\\\' v1\", \"10x 5\\\\' v1\", \"10x 3\\\\' v2\", \"10x 5\\\\' v2\", \"10x 3\\\\' v3\", \"10x 3\\\\' transcription profiling\", \"10x 5\\\\' transcription profiling\", \"10x technology\"]\n",
    "HOUSEKEEPING_GENES = ['MALAT1', 'ACTB', 'GAPDH', 'UBC', 'SDHA', 'YWHAZ', 'PGK1', 'PPIA', 'RPL13A', 'RPLP0', 'B2M']\n",
    "NUM_MARKER_GENES = 5\n",
    "\n",
    "contents_cell_types = open('../data/data_tidy/overlapping_categories.json').read()\n",
    "contents_marker_genes = open('../data/data_raw/hubmap_marker_genes.json').read()\n",
    "tissue2cell_types = json.loads(contents_cell_types)\n",
    "marker_genes = json.loads(contents_marker_genes)\n",
    "\n",
    "cell_type_mapping = {\n",
    "    'CL:4028006' : 'alveolar type 2 fibroblast cell',\n",
    "    'CL:0000525' : 'syncytiotrophoblast cell',\n",
    "    'CL:0000786' : 'plasma cell',\n",
    "    'CL:0000895' : 'naive thymus-derived CD4-positive, alpha-beta T cell',\n",
    "    'CL:0000909' : 'CD8-positive, alpha-beta memory T cell',\n",
    "    'CL:0000071' : 'blood vessel endothelial cell',\n",
    "    'CL:0000899' : 'T-helper 17 cell',\n",
    "    'CL:0000084' : 'T cell',\n",
    "    'CL:1001106' : 'kidney loop of Henle thick ascending limb epithelial cell'\n",
    "}\n",
    "mapping2cell_type = {v:k for k, v in cell_type_mapping.items()}\n",
    "\n",
    "def get_marker_genes(tissue, cell_type):\n",
    "    return [entry['symbol'] for entry in marker_genes[mapping2cell_type[cell_type]] if entry['tissue'] == tissue]"
   ]
  },
  {
   "cell_type": "markdown",
   "metadata": {
    "application/vnd.databricks.v1+cell": {
     "cellMetadata": {
      "byteLimit": 2048000,
      "rowLimit": 10000
     },
     "inputWidgets": {},
     "nuid": "164e826a-2c8a-47ce-aa8b-072d9190a5e4",
     "showTitle": false,
     "title": ""
    }
   },
   "source": [
    "## Rankit Implementation"
   ]
  },
  {
   "cell_type": "code",
   "execution_count": 3,
   "metadata": {
    "application/vnd.databricks.v1+cell": {
     "cellMetadata": {
      "byteLimit": 2048000,
      "rowLimit": 10000
     },
     "inputWidgets": {},
     "nuid": "f3d3ac17-bb29-4d76-a6b4-c1ebd2062f78",
     "showTitle": false,
     "title": ""
    }
   },
   "outputs": [],
   "source": [
    "import cellxgene_census\n",
    "import numpy as np\n",
    "import numba as nb\n",
    "from scipy import stats\n",
    "import scipy \n",
    "import pandas as pd\n",
    "import scanpy as sc\n",
    "\n",
    "\n",
    "@nb.jit\n",
    "def quantiles(max_rank: int, ranks: np.ndarray) -> np.ndarray:\n",
    "    \"\"\"\n",
    "    :returns an array of n floats equally spaced from 0 to 1\n",
    "    \"\"\"\n",
    "    return np.array([np.round((i - 0.5) / max_rank, 5) for i in ranks])\n",
    "\n",
    "\n",
    "def rankit(Xraw: scipy.sparse.spmatrix, offset: float = 3.0) -> scipy.sparse.csr_matrix:\n",
    "    \"\"\"\n",
    "    Row-wise normalizes values of a matrix using the rankit method. The target distribution is a normal distribution\n",
    "    with variance of 1 and mean as set in `offset`\n",
    "    https://en.wikipedia.org/wiki/Rankit\n",
    "    In statistics, rankits of a set of data are the expected values of the order statistics of\n",
    "    a sample from the standard normal distribution the same size as the data\n",
    "    Caveat: equal values are ranked in undefined order.\n",
    "    param Xraw: query matrix to be normalized\n",
    "    param offset: mean for the resulting row-wise values that will follow a normal distribution with variance 1. This\n",
    "    helps to shift values to a positive scale.\n",
    "    :returns row-wise normalized matrix using rankit\n",
    "    \"\"\"\n",
    "    X = Xraw.tocsr(copy=True)  # get Compressed Sparse Row format of raw expression values matrix\n",
    "    indptr = X.indptr  # get row count\n",
    "    warning_raised = False\n",
    "    for row in range(0, indptr.shape[0] - 1):\n",
    "        data = X.data[indptr[row] : indptr[row + 1]]\n",
    "        if len(data) > 0:\n",
    "            # Assign ranks to data, assigning the same value to ties\n",
    "            ranks = stats.rankdata(data, method=\"dense\")\n",
    "\n",
    "            max_rank = max(ranks)\n",
    "            prob_level = quantiles(max_rank, ranks)\n",
    "\n",
    "            normal_quantiles = stats.norm.ppf(prob_level, loc=offset)\n",
    "            X.data[indptr[row] : indptr[row + 1]] = normal_quantiles\n",
    "        elif not warning_raised:\n",
    "            print(\"This dataset has at least one row of all zero expressions\")\n",
    "            warning_raised = True\n",
    "    return X"
   ]
  },
  {
   "cell_type": "markdown",
   "metadata": {
    "application/vnd.databricks.v1+cell": {
     "cellMetadata": {
      "byteLimit": 2048000,
      "rowLimit": 10000
     },
     "inputWidgets": {},
     "nuid": "162c7d87-39e5-431a-8e9a-3a5b559c81d4",
     "showTitle": false,
     "title": ""
    }
   },
   "source": [
    "## Analyses"
   ]
  },
  {
   "cell_type": "code",
   "execution_count": 4,
   "metadata": {
    "application/vnd.databricks.v1+cell": {
     "cellMetadata": {
      "byteLimit": 2048000,
      "rowLimit": 10000
     },
     "inputWidgets": {},
     "nuid": "49e55a5e-a788-4a14-bd23-a6edd1d09f80",
     "showTitle": false,
     "title": ""
    }
   },
   "outputs": [],
   "source": [
    "def get_census_query(cell_types, tissues, assays):\n",
    "    \"\"\"\n",
    "    Returns a value filter query for the census to retrieve data for \n",
    "    a given array of cell types, tissues and assays\n",
    "\n",
    "    :param cell_types: the cell_types to retrieve from the census\n",
    "    :param tissues: the tissues the cell_types are found in\n",
    "    :param assays: the assays corresponding to the cell_types and tissues\n",
    "\n",
    "    :return: the value_filter query\n",
    "    \"\"\"\n",
    "    value_filter = \"is_primary_data == True and cell_type in [\" \n",
    "    for cell_type in cell_types:\n",
    "        value_filter += \"'\" + cell_type.replace(\"'\", \"\\\\'\") + \"', \"\n",
    "    value_filter = value_filter[:-2] + \"] and tissue_general in [\"\n",
    "    for tissue in tissues:\n",
    "        value_filter += \"'\" + tissue + \"', \"\n",
    "    value_filter = value_filter[:-2] + \"] and assay in [\"\n",
    "    for assay in assays:\n",
    "        value_filter += \"'\" + assay + \"', \"\n",
    "    value_filter = value_filter[:-2] + \"]\"\n",
    "    return value_filter"
   ]
  },
  {
   "cell_type": "code",
   "execution_count": 5,
   "metadata": {
    "application/vnd.databricks.v1+cell": {
     "cellMetadata": {
      "byteLimit": 2048000,
      "rowLimit": 10000
     },
     "inputWidgets": {},
     "nuid": "c0d8802a-6a9f-4b18-83ab-aa90815ad737",
     "showTitle": false,
     "title": ""
    }
   },
   "outputs": [],
   "source": [
    "def get_census_metadata(cell_types, tissues, assays, census):\n",
    "    \"\"\"\n",
    "    Queries the census to retrieve metadata for a given array of cell_types, tissues and assays\n",
    "\n",
    "    :param cell_types: the cell_types to retrieve metadata for\n",
    "    :param tissues: the tissues the cell_types are found in\n",
    "    :param assays: the assays corresponding to the cell_types and tissues\n",
    "\n",
    "    :return:\n",
    "        metadata: metadata retrieved from the census \n",
    "        census_query: the query used to retrieve the metadata from cellxgene_census\n",
    "        genes: the set of corresponding genes from the census\n",
    "    \"\"\"\n",
    "    census_query = get_census_query(cell_types, tissues, assays)\n",
    "    \n",
    "    # Reads SOMADataFrame as a slice\n",
    "    metadata = census[\"census_data\"][\"homo_sapiens\"].obs.read(\n",
    "        value_filter = census_query,\n",
    "        column_names = [\"soma_joinid\", \"assay\", \"dataset_id\", \"cell_type\", \"tissue\", \"tissue_general\", \"suspension_type\", \"disease\", \"donor_id\", \"raw_sum\"]\n",
    "    )\n",
    "\n",
    "    genes = census[\"census_data\"][\"homo_sapiens\"].ms[\"RNA\"].var.read().concat().to_pandas()\n",
    "        \n",
    "    # Concatenates results to pyarrow.Table\n",
    "    metadata = metadata.concat()\n",
    "    \n",
    "    # Converts to pandas.DataFrame\n",
    "    metadata = metadata.to_pandas()\n",
    "    # metadata['cell_type'] = metadata['cell_type'].apply(lambda x: cell_type2parents[x])\n",
    "        \n",
    "    print('There are', len(metadata), 'observations')\n",
    "    return metadata, census_query, genes"
   ]
  },
  {
   "cell_type": "markdown",
   "metadata": {
    "application/vnd.databricks.v1+cell": {
     "cellMetadata": {
      "byteLimit": 2048000,
      "rowLimit": 10000
     },
     "inputWidgets": {},
     "nuid": "e4a94fee-7080-4781-8a52-c4dffa06e66c",
     "showTitle": false,
     "title": ""
    }
   },
   "source": [
    "### Get X iteratively and perform normalizations\n",
    "**1. Pre-processing**\n",
    "- *Remove cells with <500 expressed genes*\n",
    "\n",
    "**2. Normalizations**\n",
    "1. Rankit\n",
    "2. log CPM\n",
    "\n",
    "**3. Post-processing** <br>\n",
    "- *Removal of Noisy Ultra-low Expression Values* <br>\n",
    "After applying normalization, any gene/cell combination that had counts less or equal than 2 are set to missing data. This allows for removal of noise due to ultra-lowly expressed genes and provides a cleaner visualization.\n"
   ]
  },
  {
   "cell_type": "code",
   "execution_count": 6,
   "metadata": {
    "application/vnd.databricks.v1+cell": {
     "cellMetadata": {
      "byteLimit": 2048000,
      "rowLimit": 10000
     },
     "inputWidgets": {},
     "nuid": "0771e9ed-817b-4ba2-9932-5088b1af85e3",
     "showTitle": false,
     "title": ""
    }
   },
   "outputs": [],
   "source": [
    "from cellxgene_census.experimental.util import X_sparse_iter\n",
    "import tiledbsoma as soma\n",
    "\n",
    "def get_raw_count_data_and_normalize(cell_type, tissue, assays):\n",
    "    \"\"\"\n",
    "    Retrieves raw counts data from the census for a given cell_type, tissue and set of assays \n",
    "    and performs quantile normalization and log (CPM) normalizations. Data is retrieved in batches.\n",
    "\n",
    "    :param cell_type: cell_type to get data for\n",
    "    :param tissue: corresponding tissue for the cell_type\n",
    "    :param assays: assays corresponding to the cell_type and tissue\n",
    "\n",
    "    :return:\n",
    "        all_X_raw_counts: raw counts data\n",
    "        all_X_rankit: quantile normalized data\n",
    "        all_X_log_cpm: log (CPM) normalized data\n",
    "        genes: the set of corresponding genes from the census\n",
    "    \"\"\"\n",
    "    with cellxgene_census.open_soma(census_version=CENSUS_VERSION) as census:\n",
    "        tissues = [tissue]\n",
    "        cell_types = [cell_type]\n",
    "\n",
    "        metadata, value_filter, genes = get_census_metadata(cell_types, tissues, assays, census)\n",
    "        exp = census[\"census_data\"][\"homo_sapiens\"]\n",
    "        query = exp.axis_query(\n",
    "        measurement_name = \"RNA\",\n",
    "        obs_query = soma.AxisQuery(\n",
    "            value_filter = value_filter\n",
    "        ))\n",
    "        all_obs_soma_joinids = []\n",
    "        all_var_soma_joinids = []\n",
    "        all_X_raw_counts = None\n",
    "        all_X_rankit = None\n",
    "        all_X_log_cpm = None\n",
    "\n",
    "        i = 0\n",
    "        for (obs_soma_joinids, var_soma_joinids), X_chunk in X_sparse_iter(query, X_name=\"raw\", stride=10000):\n",
    "            print('Parsing chunk Batch:', i)\n",
    "\n",
    "            # Remove cells with < 500 expressed genes\n",
    "            n_obs = X_chunk.shape[0]\n",
    "            non_zero = [X_chunk[i,:].count_nonzero() for i in range(n_obs)]\n",
    "            mask = [i >= NUM_MIN_EXPRESSED_GENES_PER_CELL for i in non_zero]\n",
    "            obs_soma_joinids = obs_soma_joinids[mask]\n",
    "\n",
    "            all_obs_soma_joinids.extend(obs_soma_joinids)\n",
    "            all_var_soma_joinids.extend(var_soma_joinids)\n",
    "\n",
    "            X_chunk = X_chunk[mask, :]\n",
    "\n",
    "            print('\\tCompute rankit values Batch:', i)\n",
    "            # Compute rankit values\n",
    "            X_rankit = rankit(X_chunk)\n",
    "\n",
    "            # Removal of ultra-low expressed genes\n",
    "            nonzero_mask = X_chunk.nonzero()\n",
    "            X_chunk_nonzero = X_chunk[nonzero_mask]\n",
    "            lowly_expressed_mask = np.array(X_chunk_nonzero <= NUM_MIN_ULTRA_LOW_EXPRESSED_GENES)[0]\n",
    "\n",
    "            nonzero_rows_indices = nonzero_mask[0][lowly_expressed_mask]\n",
    "            nonzero_cols_indices = nonzero_mask[1][lowly_expressed_mask]\n",
    "\n",
    "            X_rankit[nonzero_rows_indices, nonzero_cols_indices] = 0\n",
    "            X_rankit.eliminate_zeros()\n",
    "\n",
    "            X_chunk[nonzero_rows_indices, nonzero_cols_indices] = 0\n",
    "            X_chunk.eliminate_zeros()\n",
    "\n",
    "            # Compute log CPM values\n",
    "            print('\\tCompute log CPM values Batch:', i)\n",
    "            library_sizes = np.array(metadata[metadata['soma_joinid'].isin(obs_soma_joinids)]['raw_sum']).reshape(-1, 1)\n",
    "            X_cpm = X_chunk / library_sizes * 1e6\n",
    "            X_log_cpm = scipy.sparse.csr_matrix(np.log(X_cpm + 1))\n",
    "\n",
    "            X_log_cpm[nonzero_rows_indices, nonzero_cols_indices] = 0\n",
    "            X_log_cpm.eliminate_zeros()\n",
    "\n",
    "            if i == 0:\n",
    "                all_X_raw_counts = X_chunk\n",
    "                all_X_rankit = X_rankit    \n",
    "                all_X_log_cpm = X_log_cpm   \n",
    "            else:\n",
    "                all_X_raw_counts = scipy.sparse.vstack((all_X_raw_counts, X_chunk))\n",
    "                all_X_rankit = scipy.sparse.vstack((all_X_rankit, X_rankit))\n",
    "                all_X_log_cpm = scipy.sparse.vstack((all_X_log_cpm, X_log_cpm))\n",
    "            i += 1\n",
    "            # X_chunk is a scipy.csr_matrix of csc_matrix\n",
    "            # For each X_chunk[i, j], the associated soma_joinid is\n",
    "            # obs_soma_joinids[i] and var_soma_joinids[j]\n",
    "    metadata = metadata[metadata['soma_joinid'].isin(all_obs_soma_joinids)]\n",
    "    metadata['m_idx'] = [i for i in range(len(metadata))]\n",
    "\n",
    "    obs_soma_joinid2idx = {x : i for i, x in enumerate(all_obs_soma_joinids)}\n",
    "    obs_idx2soma_joinid = {v:k for k, v in obs_soma_joinid2idx.items()}\n",
    "\n",
    "    var_idx2soma_joinid = {i : x for i, x in enumerate(all_var_soma_joinids)}\n",
    "    var_soma_joinid2idx = {v:k for k, v in var_idx2soma_joinid.items()}\n",
    "    return all_X_raw_counts, all_X_rankit, all_X_log_cpm, metadata, genes, obs_soma_joinid2idx, var_idx2soma_joinid"
   ]
  },
  {
   "cell_type": "code",
   "execution_count": 7,
   "metadata": {
    "application/vnd.databricks.v1+cell": {
     "cellMetadata": {
      "byteLimit": 2048000,
      "rowLimit": 10000
     },
     "inputWidgets": {},
     "nuid": "2c3b12e1-7585-46a4-a2f5-e8b9bbcccb54",
     "showTitle": false,
     "title": ""
    }
   },
   "outputs": [],
   "source": [
    "def get_average_ge(X):\n",
    "    \"\"\"\n",
    "    Get average gene expression values for raw or normalized matrix X\n",
    "\n",
    "    :param X: raw or normalized (quantile, log CPM) matrix of gene expression values\n",
    "\n",
    "    :return: array containing average gene expression values, where each entry corresponds to the average for a specicic gene\n",
    "    \"\"\"\n",
    "    covariate_gene_expression_sums = X.sum(axis = 0).tolist()[0]\n",
    "    num_genes = X.shape[1]\n",
    "    non_zero_cols, non_zero_counts = np.unique(X.indices, return_counts=True)\n",
    "    averages = np.zeros(num_genes)\n",
    "    for non_zero_col, non_zero_counts in zip(non_zero_cols, non_zero_counts):\n",
    "        averages[non_zero_col] = covariate_gene_expression_sums[non_zero_col] / non_zero_counts\n",
    "    return averages"
   ]
  },
  {
   "cell_type": "code",
   "execution_count": 8,
   "metadata": {
    "application/vnd.databricks.v1+cell": {
     "cellMetadata": {
      "byteLimit": 2048000,
      "rowLimit": 10000
     },
     "inputWidgets": {},
     "nuid": "39ac9c7f-7c7a-4d0e-ae2e-bd1d6b1101c1",
     "showTitle": false,
     "title": ""
    }
   },
   "outputs": [],
   "source": [
    "def get_covariate_df(metadata, genes, X_raw, X_rankit, X_log_cpm, obs_soma_joinid2idx, covariate, genes_of_interest):\n",
    "    \"\"\"\n",
    "    Computes average gene expression values per covariate\n",
    "\n",
    "    :param metadata: dataframe containing metadata information about the cell type considered\n",
    "    :param genes: the set of corresponding genes from the census\n",
    "    :param X_raw: raw counts data\n",
    "    :param X_rankit: quantile normalized data\n",
    "    :param X_log_cpm: log (CPM) normalized data\n",
    "    :param obs_soma_joinid2idx: mapping from obs_soma_join_id to idx in the X matrices\n",
    "    :param covariate: covariate to consider (dataset_id or assay)\n",
    "    :param genes_of_interest: genes to subset from the census\n",
    "\n",
    "    :returns:\n",
    "        covariate_raw_df: average gene expression values per covariate for raw counts\n",
    "        covariate_rankit_df: average gene expression values per covariate for quantile normalized (rankit) data\n",
    "        covariate_log_cpm_df: average gene expression values per covariate for log CPM normalized data\n",
    "        covariate_df: average gene expression values per covariate aggregated over raw, quantile normalized and log CPM data\n",
    "    \"\"\"\n",
    "    covariates_grouped = metadata.groupby(covariate).aggregate(list)\n",
    "    all_covariate_indices = covariates_grouped['soma_joinid'].to_list()\n",
    "    num_covariates = len(all_covariate_indices)\n",
    "    gene_expression_averages_raw = []\n",
    "    gene_expression_averages_rankit = []\n",
    "    gene_expression_averages_log_cpm = []\n",
    "\n",
    "    gene_expression_raw_by_covariate = []\n",
    "    gene_expression_rankit_by_covariate = []\n",
    "    gene_expression_log_cpm_by_covariate = []\n",
    "    print('There are', num_covariates, covariate)\n",
    "\n",
    "    all_indices = []\n",
    "    for covariate_idx in range(num_covariates):\n",
    "        soma_join_ids = all_covariate_indices[covariate_idx]\n",
    "        covariate_indices = [obs_soma_joinid2idx[x] for x in soma_join_ids]\n",
    "        all_indices.extend(covariate_indices)\n",
    "\n",
    "        covariate_gene_expression_avg_raw = get_average_ge(X_raw[covariate_indices])\n",
    "        covariate_gene_expression_avg_rankit = get_average_ge(X_rankit[covariate_indices])\n",
    "        covariate_gene_expression_avg_log_cpm = get_average_ge(X_log_cpm[covariate_indices])\n",
    "\n",
    "        gene_expression_averages_raw.append(covariate_gene_expression_avg_raw)\n",
    "        gene_expression_averages_rankit.append(covariate_gene_expression_avg_rankit)\n",
    "        gene_expression_averages_log_cpm.append(covariate_gene_expression_avg_log_cpm)\n",
    "\n",
    "        covariate_gene_expression_raw = X_raw[covariate_indices].toarray()\n",
    "        covariate_gene_expression_rankit = X_rankit[covariate_indices].toarray()\n",
    "        covariate_gene_expression_log_cpm = X_log_cpm[covariate_indices].toarray()\n",
    "\n",
    "        gene_expression_raw_by_covariate.append(covariate_gene_expression_raw)\n",
    "        gene_expression_rankit_by_covariate.append(covariate_gene_expression_rankit)\n",
    "        gene_expression_log_cpm_by_covariate.append(covariate_gene_expression_log_cpm)\n",
    "        \n",
    "    covariates_list = covariates_grouped.index.to_list()\n",
    "    covariate_df = pd.DataFrame(columns = ['cell_type_raw_count_avg', 'cell_type_rankit_avg', 'cell_type_log_cpm_avg'] + [x + '_raw_count_avg' for i, x in enumerate(covariates_list)] + [x +  '_rankit_avg' for i, x in enumerate(covariates_list)] + [x +  '_log_cpm_avg' for i, x in enumerate(covariates_list)])\n",
    "\n",
    "    covariate_df['cell_type_raw_count_avg'] = get_average_ge(X_raw[all_indices])\n",
    "    covariate_df['cell_type_rankit_avg'] = get_average_ge(X_rankit[all_indices])\n",
    "    covariate_df['cell_type_log_cpm_avg'] = get_average_ge(X_log_cpm[all_indices])\n",
    "\n",
    "    for cov_raw, cov_rankit, cov_log_cpm, cov, gene_expressions_raw, gene_expressions_rankit, gene_expressions_log_cpm in zip(gene_expression_averages_raw, gene_expression_averages_rankit, gene_expression_averages_log_cpm, covariates_list, gene_expression_raw_by_covariate, gene_expression_rankit_by_covariate, gene_expression_log_cpm_by_covariate):\n",
    "        covariate_df[cov + '_raw_count_avg'] = cov_raw\n",
    "        covariate_df[cov + '_rankit_avg'] = cov_rankit\n",
    "        covariate_df[cov + '_log_cpm_avg'] = cov_log_cpm\n",
    "\n",
    "    covariate_df.index = genes_of_interest\n",
    "\n",
    "    covariate_raw_df = covariate_df[[x for x in covariate_df.columns.to_list() if 'raw_count' in x]]\n",
    "    covariate_rankit_df = covariate_df[[x for x in covariate_df.columns.to_list() if 'rankit' in x]]\n",
    "    covariate_log_cpm_df = covariate_df[[x for x in covariate_df.columns.to_list() if 'log_cpm' in x]]\n",
    "\n",
    "    covariates_grouped = metadata.groupby(covariate).aggregate(list)\n",
    "    all_covariate_indices = covariates_grouped['soma_joinid'].to_list()\n",
    "    num_genes = len(genes)\n",
    "    return covariate_raw_df, covariate_rankit_df, covariate_log_cpm_df, covariate_df"
   ]
  },
  {
   "cell_type": "code",
   "execution_count": 9,
   "metadata": {
    "application/vnd.databricks.v1+cell": {
     "cellMetadata": {
      "byteLimit": 2048000,
      "rowLimit": 10000
     },
     "inputWidgets": {},
     "nuid": "98cf5465-60fc-4d65-a3fd-bfe7b15b9171",
     "showTitle": false,
     "title": ""
    }
   },
   "outputs": [],
   "source": [
    "from statsmodels.stats.anova import AnovaRM\n",
    "from collections import Counter\n",
    "import pingouin\n",
    "\n",
    "def get_anova_rm_score(covariate_df_mg, genes_of_interest):\n",
    "    \"\"\"\n",
    "    Computes one-way ANOVA with repeated measures on a dataframe containing average gene expression values (raw or normalized)\n",
    "    by treating each average gene expression value as the dependent variable and the covariate as the independent one\n",
    "\n",
    "    :param covariate_df: dataframe containing average gene expression values (raw or normalized) for a given covariate\n",
    "    :param genes_of_interest: genes we are interested in \n",
    "\n",
    "    :returns: f statistic, p_value of one-way ANOVA with repeated measures\n",
    "    \"\"\"\n",
    "    cov_df_for_anova_rm = covariate_df_mg.T[1:].reset_index()\n",
    "    cov_df_for_anova_rm.rename(columns = {'index' : 'covariate'}, inplace = True)\n",
    "    covariates = cov_df_for_anova_rm['covariate'].to_list()\n",
    "    num_covariates = len(cov_df_for_anova_rm)\n",
    "\n",
    "    gene_averages = []\n",
    "    all_genes = []\n",
    "    gene_averages = []\n",
    "    all_covariates = []\n",
    "    low_genes = set([])\n",
    "    gene2expression = {}\n",
    "    for gene in genes_of_interest:\n",
    "        is_expressed = False\n",
    "        for dataset, gene_average in zip(covariates, cov_df_for_anova_rm[gene].to_list()):\n",
    "            if gene_average == 0:\n",
    "                low_genes.add(gene)  \n",
    "            else:\n",
    "                is_expressed = True\n",
    "            all_genes.append(gene)\n",
    "            all_covariates.append(dataset)\n",
    "            gene_averages.append(gene_average)\n",
    "        gene2expression[gene] = is_expressed\n",
    "\n",
    "    anova_df = pd.DataFrame({'gene' : all_genes, 'covariate' : all_covariates, 'gene_avg' : gene_averages})\n",
    "    if len(anova_df) > 2:\n",
    "        # gene average is treated as the dependent variable and the covariate as the independent one\n",
    "        anova_rm = pg.rm_anova(dv='gene_avg', within=['covariate'], subject='gene', data=anova_df)\n",
    "        f = anova_rm['F'].values[0]\n",
    "        p_val = anova_rm['p-unc'].values[0]\n",
    "    else:\n",
    "        f = -1\n",
    "        p_val = -1\n",
    "\n",
    "    return f, p_val, anova_df"
   ]
  },
  {
   "cell_type": "code",
   "execution_count": 10,
   "metadata": {
    "application/vnd.databricks.v1+cell": {
     "cellMetadata": {
      "byteLimit": 2048000,
      "rowLimit": 10000
     },
     "inputWidgets": {},
     "nuid": "06d66e0f-459d-40b6-8d3f-b177ad42cc9b",
     "showTitle": false,
     "title": ""
    }
   },
   "outputs": [],
   "source": [
    "def get_anova_rm_scores(cell_types, covariates = ['dataset_id', 'assay'], all_genes = False):\n",
    "    \"\"\"\n",
    "    Retrieve pairwise log2fold changes for a given set of [(cell_type, tissue)] pairs stratified by covariates\n",
    "    Computes values for raw counts, quantile normalization and log (CPM)\n",
    "\n",
    "    :param cell_types: array of [(cell_type, tissue)] pairs\n",
    "    :param covariates: covariates to consider\n",
    "    :param all_genes: True if to consider the entire gene expression vector; False if to consider only the marker genes\n",
    "\n",
    "    :return: dataframe containing the pairwise log2fold changes for a given set of [(cell_type, tissue)] pairs stratified by covariates\n",
    "    \"\"\"\n",
    "    anova_rm_f_scores = []\n",
    "    anova_rm_p_vals = []\n",
    "    anova_rm_method = []\n",
    "    anova_rm_covariate = []\n",
    "    anova_rm_cell_type = []\n",
    "    anova_rm_types = []\n",
    "    genes_set = False\n",
    "        \n",
    "\n",
    "    for cell_type, tissue in cell_types:\n",
    "\n",
    "        X_raw_counts, X_rankit, X_log_cpm, metadata, genes, obs_soma_joinid2idx, var_idx2soma_joinid = get_raw_count_data_and_normalize(cell_type, tissue, ASSAYS)\n",
    "        if len(metadata) == 0:\n",
    "            continue\n",
    "        if not genes_set:\n",
    "            marker_genes = genes['feature_name'].to_list()\n",
    "            genes_set = True\n",
    "        var_soma_joinid2idx = {i : x for i, x in var_idx2soma_joinid.items()}\n",
    "\n",
    "        if not all_genes:\n",
    "            marker_genes = get_marker_genes(tissue, cell_type) \n",
    "        marker_genes_indices =  list([var_soma_joinid2idx[genes[genes['feature_name'] == x]['soma_joinid'].values[0]] for x in marker_genes])\n",
    "        hg_indices =  list([var_soma_joinid2idx[genes[genes['feature_name'] == x]['soma_joinid'].values[0]] for x in HOUSEKEEPING_GENES])\n",
    "\n",
    "        for genes_indices, genes_type, genes_of_interest in zip([marker_genes_indices, hg_indices], ['Marker Gene', 'Housekeeping Gene'], [marker_genes, HOUSEKEEPING_GENES]):\n",
    "            for covariate in covariates:\n",
    "                covariate_raw_df, covariate_rankit_df, covariate_log_cpm_df, covariate_df = get_covariate_df(metadata, genes, X_raw_counts[:, genes_indices], X_rankit[:, genes_indices], X_log_cpm[:, genes_indices], obs_soma_joinid2idx, covariate, genes_of_interest)\n",
    "                \n",
    "                f_raw, p_raw, data_anova_raw_df = get_anova_rm_score(covariate_raw_df, genes_of_interest)\n",
    "                f_rankit, p_rankit, data_anova_rankit_df = get_anova_rm_score(covariate_rankit_df, genes_of_interest)\n",
    "                f_log_cpm, p_log_cpm, data_anova_log_cpm_df = get_anova_rm_score(covariate_log_cpm_df, genes_of_interest)\n",
    "                anova_rm_f_scores.extend([f_raw, f_rankit, f_log_cpm])\n",
    "                anova_rm_p_vals.extend([p_raw, p_rankit, p_log_cpm])\n",
    "                anova_rm_method.extend(['raw', 'rankit', 'log (CPM)'])\n",
    "                anova_rm_types.extend([genes_type] * 3)\n",
    "                anova_rm_covariate.extend([covariate] * 3)\n",
    "                anova_rm_cell_type.extend([cell_type + \", \" + tissue] * 3)\n",
    "        \n",
    "    anova_df = pd.DataFrame({'cell_type' : anova_rm_cell_type, 'covariate' : anova_rm_covariate, 'method' : anova_rm_method, 'F score' : anova_rm_f_scores, 'p_val' : anova_rm_p_vals, 'gene_type' : anova_rm_types})\n",
    "    return anova_df"
   ]
  },
  {
   "cell_type": "markdown",
   "metadata": {
    "application/vnd.databricks.v1+cell": {
     "cellMetadata": {
      "byteLimit": 2048000,
      "rowLimit": 10000
     },
     "inputWidgets": {},
     "nuid": "bf05e2d6-0baf-4b30-9e1d-ee8bd16abed8",
     "showTitle": false,
     "title": ""
    }
   },
   "source": [
    "### Repeated Measures ANOVA Scores"
   ]
  },
  {
   "cell_type": "code",
   "execution_count": 11,
   "metadata": {
    "application/vnd.databricks.v1+cell": {
     "cellMetadata": {
      "byteLimit": 2048000,
      "rowLimit": 10000
     },
     "inputWidgets": {},
     "nuid": "9ae12c7a-4977-4bd9-af30-090c6b89348c",
     "showTitle": false,
     "title": ""
    }
   },
   "outputs": [
    {
     "name": "stdout",
     "output_type": "stream",
     "text": [
      "There are 4374 observations\n",
      "Parsing chunk Batch: 0\n",
      "\tCompute rankit values Batch: 0\n",
      "\tCompute log CPM values Batch: 0\n"
     ]
    },
    {
     "name": "stderr",
     "output_type": "stream",
     "text": [
      "/usr/local/anaconda3/lib/python3.10/site-packages/scipy/sparse/_index.py:146: SparseEfficiencyWarning: Changing the sparsity structure of a csr_matrix is expensive. lil_matrix is more efficient.\n",
      "  self._set_arrayXarray(i, j, x)\n"
     ]
    },
    {
     "name": "stdout",
     "output_type": "stream",
     "text": [
      "There are 5 dataset_id\n",
      "There are 5 assay\n",
      "There are 5 dataset_id\n",
      "There are 5 assay\n",
      "There are 3111 observations\n",
      "Parsing chunk Batch: 0\n",
      "\tCompute rankit values Batch: 0\n",
      "\tCompute log CPM values Batch: 0\n"
     ]
    },
    {
     "name": "stderr",
     "output_type": "stream",
     "text": [
      "/usr/local/anaconda3/lib/python3.10/site-packages/scipy/sparse/_index.py:146: SparseEfficiencyWarning: Changing the sparsity structure of a csr_matrix is expensive. lil_matrix is more efficient.\n",
      "  self._set_arrayXarray(i, j, x)\n"
     ]
    },
    {
     "name": "stdout",
     "output_type": "stream",
     "text": [
      "There are 5 dataset_id\n",
      "There are 3 assay\n",
      "There are 5 dataset_id\n",
      "There are 3 assay\n",
      "There are 13961 observations\n",
      "Parsing chunk Batch: 0\n",
      "\tCompute rankit values Batch: 0\n",
      "\tCompute log CPM values Batch: 0\n"
     ]
    },
    {
     "name": "stderr",
     "output_type": "stream",
     "text": [
      "/usr/local/anaconda3/lib/python3.10/site-packages/scipy/sparse/_index.py:146: SparseEfficiencyWarning: Changing the sparsity structure of a csr_matrix is expensive. lil_matrix is more efficient.\n",
      "  self._set_arrayXarray(i, j, x)\n"
     ]
    },
    {
     "name": "stdout",
     "output_type": "stream",
     "text": [
      "Parsing chunk Batch: 1\n",
      "\tCompute rankit values Batch: 1\n",
      "\tCompute log CPM values Batch: 1\n",
      "There are 2 dataset_id\n",
      "There are 4 assay\n",
      "There are 2 dataset_id\n",
      "There are 4 assay\n",
      "There are 38465 observations\n",
      "Parsing chunk Batch: 0\n",
      "\tCompute rankit values Batch: 0\n",
      "\tCompute log CPM values Batch: 0\n"
     ]
    },
    {
     "name": "stderr",
     "output_type": "stream",
     "text": [
      "/usr/local/anaconda3/lib/python3.10/site-packages/scipy/sparse/_index.py:146: SparseEfficiencyWarning: Changing the sparsity structure of a csr_matrix is expensive. lil_matrix is more efficient.\n",
      "  self._set_arrayXarray(i, j, x)\n"
     ]
    },
    {
     "name": "stdout",
     "output_type": "stream",
     "text": [
      "Parsing chunk Batch: 1\n",
      "\tCompute rankit values Batch: 1\n",
      "\tCompute log CPM values Batch: 1\n"
     ]
    },
    {
     "name": "stderr",
     "output_type": "stream",
     "text": [
      "/usr/local/anaconda3/lib/python3.10/site-packages/scipy/sparse/_index.py:146: SparseEfficiencyWarning: Changing the sparsity structure of a csr_matrix is expensive. lil_matrix is more efficient.\n",
      "  self._set_arrayXarray(i, j, x)\n"
     ]
    },
    {
     "name": "stdout",
     "output_type": "stream",
     "text": [
      "Parsing chunk Batch: 2\n",
      "\tCompute rankit values Batch: 2\n",
      "\tCompute log CPM values Batch: 2\n",
      "Parsing chunk Batch: 3\n",
      "\tCompute rankit values Batch: 3\n",
      "\tCompute log CPM values Batch: 3\n",
      "There are 3 dataset_id\n",
      "There are 3 assay\n",
      "There are 3 dataset_id\n",
      "There are 3 assay\n",
      "There are 1835 observations\n",
      "Parsing chunk Batch: 0\n",
      "\tCompute rankit values Batch: 0\n",
      "\tCompute log CPM values Batch: 0\n"
     ]
    },
    {
     "name": "stderr",
     "output_type": "stream",
     "text": [
      "/usr/local/anaconda3/lib/python3.10/site-packages/scipy/sparse/_index.py:146: SparseEfficiencyWarning: Changing the sparsity structure of a csr_matrix is expensive. lil_matrix is more efficient.\n",
      "  self._set_arrayXarray(i, j, x)\n"
     ]
    },
    {
     "name": "stdout",
     "output_type": "stream",
     "text": [
      "There are 3 dataset_id\n",
      "There are 4 assay\n",
      "There are 3 dataset_id\n",
      "There are 4 assay\n"
     ]
    }
   ],
   "source": [
    "cell_types = [('plasma cell', 'lymph node'), ('T cell', 'kidney'), ('alveolar type 2 fibroblast cell', 'lung'), ('syncytiotrophoblast cell', 'placenta'), ('plasma cell', 'bone marrow')]\n",
    "anova_df = get_anova_rm_scores(cell_types, covariates = ['dataset_id', 'assay'], all_genes = False)"
   ]
  },
  {
   "cell_type": "code",
   "execution_count": 19,
   "metadata": {
    "application/vnd.databricks.v1+cell": {
     "cellMetadata": {
      "byteLimit": 2048000,
      "rowLimit": 10000
     },
     "inputWidgets": {},
     "nuid": "7622d782-a392-4903-83f5-603519230ae0",
     "showTitle": false,
     "title": ""
    },
    "scrolled": false
   },
   "outputs": [
    {
     "data": {
      "application/vnd.plotly.v1+json": {
       "config": {
        "linkText": "Export to plot.ly",
        "plotlyServerURL": "https://plot.ly",
        "showLink": false
       },
       "data": [
        {
         "hovertemplate": "cell_type=plasma cell, lymph node<br>covariate=dataset_id<br>gene_type=Marker Gene<br>method=%{x}<br>p_val=%{y}<extra></extra>",
         "legendgroup": "plasma cell, lymph node",
         "marker": {
          "color": "#88d5d4",
          "size": 7,
          "symbol": "circle"
         },
         "mode": "markers",
         "name": "plasma cell, lymph node",
         "orientation": "v",
         "showlegend": true,
         "type": "scatter",
         "x": [
          "raw",
          "rankit",
          "log (CPM)"
         ],
         "xaxis": "x3",
         "y": [
          0.012655639682429604,
          0.20150993161440162,
          0.12632347887263806
         ],
         "yaxis": "y3"
        },
        {
         "hovertemplate": "cell_type=plasma cell, lymph node<br>covariate=dataset_id<br>gene_type=Housekeeping Gene<br>method=%{x}<br>p_val=%{y}<extra></extra>",
         "legendgroup": "plasma cell, lymph node",
         "marker": {
          "color": "#88d5d4",
          "size": 7,
          "symbol": "circle"
         },
         "mode": "markers",
         "name": "plasma cell, lymph node",
         "orientation": "v",
         "showlegend": false,
         "type": "scatter",
         "x": [
          "raw",
          "rankit",
          "log (CPM)"
         ],
         "xaxis": "x4",
         "y": [
          0.0960073713531376,
          0.41518538461278914,
          0.21129070074165932
         ],
         "yaxis": "y4"
        },
        {
         "hovertemplate": "cell_type=plasma cell, lymph node<br>covariate=assay<br>gene_type=Marker Gene<br>method=%{x}<br>p_val=%{y}<extra></extra>",
         "legendgroup": "plasma cell, lymph node",
         "marker": {
          "color": "#88d5d4",
          "size": 7,
          "symbol": "circle"
         },
         "mode": "markers",
         "name": "plasma cell, lymph node",
         "orientation": "v",
         "showlegend": false,
         "type": "scatter",
         "x": [
          "raw",
          "rankit",
          "log (CPM)"
         ],
         "xaxis": "x",
         "y": [
          0.020515397362467935,
          0.19276530290888919,
          0.00013535316213851543
         ],
         "yaxis": "y"
        },
        {
         "hovertemplate": "cell_type=plasma cell, lymph node<br>covariate=assay<br>gene_type=Housekeeping Gene<br>method=%{x}<br>p_val=%{y}<extra></extra>",
         "legendgroup": "plasma cell, lymph node",
         "marker": {
          "color": "#88d5d4",
          "size": 7,
          "symbol": "circle"
         },
         "mode": "markers",
         "name": "plasma cell, lymph node",
         "orientation": "v",
         "showlegend": false,
         "type": "scatter",
         "x": [
          "raw",
          "rankit",
          "log (CPM)"
         ],
         "xaxis": "x2",
         "y": [
          0.05565648731327781,
          0.2548835911566544,
          0.022428036902166937
         ],
         "yaxis": "y2"
        },
        {
         "hovertemplate": "cell_type=T cell, kidney<br>covariate=dataset_id<br>gene_type=Marker Gene<br>method=%{x}<br>p_val=%{y}<extra></extra>",
         "legendgroup": "T cell, kidney",
         "marker": {
          "color": "#f7cb6c",
          "size": 7,
          "symbol": "circle"
         },
         "mode": "markers",
         "name": "T cell, kidney",
         "orientation": "v",
         "showlegend": true,
         "type": "scatter",
         "x": [
          "raw",
          "rankit",
          "log (CPM)"
         ],
         "xaxis": "x3",
         "y": [
          0.10215326599185892,
          0.5941156878734735,
          0.6522568677590544
         ],
         "yaxis": "y3"
        },
        {
         "hovertemplate": "cell_type=T cell, kidney<br>covariate=dataset_id<br>gene_type=Housekeeping Gene<br>method=%{x}<br>p_val=%{y}<extra></extra>",
         "legendgroup": "T cell, kidney",
         "marker": {
          "color": "#f7cb6c",
          "size": 7,
          "symbol": "circle"
         },
         "mode": "markers",
         "name": "T cell, kidney",
         "orientation": "v",
         "showlegend": false,
         "type": "scatter",
         "x": [
          "raw",
          "rankit",
          "log (CPM)"
         ],
         "xaxis": "x4",
         "y": [
          0.000561268602972191,
          0.059904666140829184,
          0.7106845985961658
         ],
         "yaxis": "y4"
        },
        {
         "hovertemplate": "cell_type=T cell, kidney<br>covariate=assay<br>gene_type=Marker Gene<br>method=%{x}<br>p_val=%{y}<extra></extra>",
         "legendgroup": "T cell, kidney",
         "marker": {
          "color": "#f7cb6c",
          "size": 7,
          "symbol": "circle"
         },
         "mode": "markers",
         "name": "T cell, kidney",
         "orientation": "v",
         "showlegend": false,
         "type": "scatter",
         "x": [
          "raw",
          "rankit",
          "log (CPM)"
         ],
         "xaxis": "x",
         "y": [
          0.003145646584263153,
          0.00020125133845953067,
          1.484878499548624e-05
         ],
         "yaxis": "y"
        },
        {
         "hovertemplate": "cell_type=T cell, kidney<br>covariate=assay<br>gene_type=Housekeeping Gene<br>method=%{x}<br>p_val=%{y}<extra></extra>",
         "legendgroup": "T cell, kidney",
         "marker": {
          "color": "#f7cb6c",
          "size": 7,
          "symbol": "circle"
         },
         "mode": "markers",
         "name": "T cell, kidney",
         "orientation": "v",
         "showlegend": false,
         "type": "scatter",
         "x": [
          "raw",
          "rankit",
          "log (CPM)"
         ],
         "xaxis": "x2",
         "y": [
          0.0038083645012494524,
          0.02660813412710168,
          0.37833716985565535
         ],
         "yaxis": "y2"
        },
        {
         "hovertemplate": "cell_type=alveolar type 2 fibroblast cell, lung<br>covariate=dataset_id<br>gene_type=Marker Gene<br>method=%{x}<br>p_val=%{y}<extra></extra>",
         "legendgroup": "alveolar type 2 fibroblast cell, lung",
         "marker": {
          "color": "#f3a5ac",
          "size": 7,
          "symbol": "circle"
         },
         "mode": "markers",
         "name": "alveolar type 2 fibroblast cell, lung",
         "orientation": "v",
         "showlegend": true,
         "type": "scatter",
         "x": [
          "raw",
          "rankit",
          "log (CPM)"
         ],
         "xaxis": "x3",
         "y": [
          0.09979499477197475,
          0.21942726548275637,
          0.2580255123467229
         ],
         "yaxis": "y3"
        },
        {
         "hovertemplate": "cell_type=alveolar type 2 fibroblast cell, lung<br>covariate=dataset_id<br>gene_type=Housekeeping Gene<br>method=%{x}<br>p_val=%{y}<extra></extra>",
         "legendgroup": "alveolar type 2 fibroblast cell, lung",
         "marker": {
          "color": "#f3a5ac",
          "size": 7,
          "symbol": "circle"
         },
         "mode": "markers",
         "name": "alveolar type 2 fibroblast cell, lung",
         "orientation": "v",
         "showlegend": false,
         "type": "scatter",
         "x": [
          "raw",
          "rankit",
          "log (CPM)"
         ],
         "xaxis": "x4",
         "y": [
          0.12229467829323293,
          0.07641291474079687,
          0.26587576887925546
         ],
         "yaxis": "y4"
        },
        {
         "hovertemplate": "cell_type=alveolar type 2 fibroblast cell, lung<br>covariate=assay<br>gene_type=Marker Gene<br>method=%{x}<br>p_val=%{y}<extra></extra>",
         "legendgroup": "alveolar type 2 fibroblast cell, lung",
         "marker": {
          "color": "#f3a5ac",
          "size": 7,
          "symbol": "circle"
         },
         "mode": "markers",
         "name": "alveolar type 2 fibroblast cell, lung",
         "orientation": "v",
         "showlegend": false,
         "type": "scatter",
         "x": [
          "raw",
          "rankit",
          "log (CPM)"
         ],
         "xaxis": "x",
         "y": [
          0.0633110274668287,
          0.7701562247587197,
          0.9995716333875396
         ],
         "yaxis": "y"
        },
        {
         "hovertemplate": "cell_type=alveolar type 2 fibroblast cell, lung<br>covariate=assay<br>gene_type=Housekeeping Gene<br>method=%{x}<br>p_val=%{y}<extra></extra>",
         "legendgroup": "alveolar type 2 fibroblast cell, lung",
         "marker": {
          "color": "#f3a5ac",
          "size": 7,
          "symbol": "circle"
         },
         "mode": "markers",
         "name": "alveolar type 2 fibroblast cell, lung",
         "orientation": "v",
         "showlegend": false,
         "type": "scatter",
         "x": [
          "raw",
          "rankit",
          "log (CPM)"
         ],
         "xaxis": "x2",
         "y": [
          0.01617953860655038,
          0.457041860050573,
          0.8467022255457525
         ],
         "yaxis": "y2"
        },
        {
         "hovertemplate": "cell_type=syncytiotrophoblast cell, placenta<br>covariate=dataset_id<br>gene_type=Marker Gene<br>method=%{x}<br>p_val=%{y}<extra></extra>",
         "legendgroup": "syncytiotrophoblast cell, placenta",
         "marker": {
          "color": "#619c80",
          "size": 7,
          "symbol": "circle"
         },
         "mode": "markers",
         "name": "syncytiotrophoblast cell, placenta",
         "orientation": "v",
         "showlegend": true,
         "type": "scatter",
         "x": [
          "raw",
          "rankit",
          "log (CPM)"
         ],
         "xaxis": "x3",
         "y": [
          0.12104520192551618,
          0.9738908060358498,
          0.9508433662806305
         ],
         "yaxis": "y3"
        },
        {
         "hovertemplate": "cell_type=syncytiotrophoblast cell, placenta<br>covariate=dataset_id<br>gene_type=Housekeeping Gene<br>method=%{x}<br>p_val=%{y}<extra></extra>",
         "legendgroup": "syncytiotrophoblast cell, placenta",
         "marker": {
          "color": "#619c80",
          "size": 7,
          "symbol": "circle"
         },
         "mode": "markers",
         "name": "syncytiotrophoblast cell, placenta",
         "orientation": "v",
         "showlegend": false,
         "type": "scatter",
         "x": [
          "raw",
          "rankit",
          "log (CPM)"
         ],
         "xaxis": "x4",
         "y": [
          0.05180152341865535,
          0.07213097122475684,
          0.24022900388233565
         ],
         "yaxis": "y4"
        },
        {
         "hovertemplate": "cell_type=syncytiotrophoblast cell, placenta<br>covariate=assay<br>gene_type=Marker Gene<br>method=%{x}<br>p_val=%{y}<extra></extra>",
         "legendgroup": "syncytiotrophoblast cell, placenta",
         "marker": {
          "color": "#619c80",
          "size": 7,
          "symbol": "circle"
         },
         "mode": "markers",
         "name": "syncytiotrophoblast cell, placenta",
         "orientation": "v",
         "showlegend": false,
         "type": "scatter",
         "x": [
          "raw",
          "rankit",
          "log (CPM)"
         ],
         "xaxis": "x",
         "y": [
          0.13379335514789445,
          0.874402605540352,
          0.9339926367645914
         ],
         "yaxis": "y"
        },
        {
         "hovertemplate": "cell_type=syncytiotrophoblast cell, placenta<br>covariate=assay<br>gene_type=Housekeeping Gene<br>method=%{x}<br>p_val=%{y}<extra></extra>",
         "legendgroup": "syncytiotrophoblast cell, placenta",
         "marker": {
          "color": "#619c80",
          "size": 7,
          "symbol": "circle"
         },
         "mode": "markers",
         "name": "syncytiotrophoblast cell, placenta",
         "orientation": "v",
         "showlegend": false,
         "type": "scatter",
         "x": [
          "raw",
          "rankit",
          "log (CPM)"
         ],
         "xaxis": "x2",
         "y": [
          0.07596489993275736,
          0.05599445613386333,
          0.26271402629088875
         ],
         "yaxis": "y2"
        },
        {
         "hovertemplate": "cell_type=plasma cell, bone marrow<br>covariate=dataset_id<br>gene_type=Marker Gene<br>method=%{x}<br>p_val=%{y}<extra></extra>",
         "legendgroup": "plasma cell, bone marrow",
         "marker": {
          "color": "#df7670",
          "size": 7,
          "symbol": "circle"
         },
         "mode": "markers",
         "name": "plasma cell, bone marrow",
         "orientation": "v",
         "showlegend": true,
         "type": "scatter",
         "x": [
          "raw",
          "rankit",
          "log (CPM)"
         ],
         "xaxis": "x3",
         "y": [
          0.23435407157136573,
          0.5232863139009079,
          0.10656365541782134
         ],
         "yaxis": "y3"
        },
        {
         "hovertemplate": "cell_type=plasma cell, bone marrow<br>covariate=dataset_id<br>gene_type=Housekeeping Gene<br>method=%{x}<br>p_val=%{y}<extra></extra>",
         "legendgroup": "plasma cell, bone marrow",
         "marker": {
          "color": "#df7670",
          "size": 7,
          "symbol": "circle"
         },
         "mode": "markers",
         "name": "plasma cell, bone marrow",
         "orientation": "v",
         "showlegend": false,
         "type": "scatter",
         "x": [
          "raw",
          "rankit",
          "log (CPM)"
         ],
         "xaxis": "x4",
         "y": [
          0.3233460248350089,
          0.6926674918215688,
          0.00032090487037031955
         ],
         "yaxis": "y4"
        },
        {
         "hovertemplate": "cell_type=plasma cell, bone marrow<br>covariate=assay<br>gene_type=Marker Gene<br>method=%{x}<br>p_val=%{y}<extra></extra>",
         "legendgroup": "plasma cell, bone marrow",
         "marker": {
          "color": "#df7670",
          "size": 7,
          "symbol": "circle"
         },
         "mode": "markers",
         "name": "plasma cell, bone marrow",
         "orientation": "v",
         "showlegend": false,
         "type": "scatter",
         "x": [
          "raw",
          "rankit",
          "log (CPM)"
         ],
         "xaxis": "x",
         "y": [
          0.17406380842385138,
          0.436027899382721,
          0.053113535132747115
         ],
         "yaxis": "y"
        },
        {
         "hovertemplate": "cell_type=plasma cell, bone marrow<br>covariate=assay<br>gene_type=Housekeeping Gene<br>method=%{x}<br>p_val=%{y}<extra></extra>",
         "legendgroup": "plasma cell, bone marrow",
         "marker": {
          "color": "#df7670",
          "size": 7,
          "symbol": "circle"
         },
         "mode": "markers",
         "name": "plasma cell, bone marrow",
         "orientation": "v",
         "showlegend": false,
         "type": "scatter",
         "x": [
          "raw",
          "rankit",
          "log (CPM)"
         ],
         "xaxis": "x2",
         "y": [
          0.37598925338097294,
          0.4186228085281771,
          0.00044289888244831895
         ],
         "yaxis": "y2"
        }
       ],
       "layout": {
        "annotations": [
         {
          "showarrow": false,
          "text": "gene_type=Marker Gene",
          "x": 0.24,
          "xanchor": "center",
          "xref": "paper",
          "y": 1,
          "yanchor": "bottom",
          "yref": "paper"
         },
         {
          "showarrow": false,
          "text": "gene_type=Housekeeping Gene",
          "x": 0.74,
          "xanchor": "center",
          "xref": "paper",
          "y": 1,
          "yanchor": "bottom",
          "yref": "paper"
         },
         {
          "showarrow": false,
          "text": "covariate=assay",
          "textangle": 90,
          "x": 0.98,
          "xanchor": "left",
          "xref": "paper",
          "y": 0.2425,
          "yanchor": "middle",
          "yref": "paper"
         },
         {
          "showarrow": false,
          "text": "covariate=dataset_id",
          "textangle": 90,
          "x": 0.98,
          "xanchor": "left",
          "xref": "paper",
          "y": 0.7575000000000001,
          "yanchor": "middle",
          "yref": "paper"
         },
         {
          "showarrow": false,
          "text": "p_val = 0.05",
          "x": 1,
          "xanchor": "right",
          "xref": "x domain",
          "y": 0.05,
          "yanchor": "bottom",
          "yref": "y"
         },
         {
          "showarrow": false,
          "text": "p_val = 0.05",
          "x": 1,
          "xanchor": "right",
          "xref": "x2 domain",
          "y": 0.05,
          "yanchor": "bottom",
          "yref": "y2"
         },
         {
          "showarrow": false,
          "text": "p_val = 0.05",
          "x": 1,
          "xanchor": "right",
          "xref": "x3 domain",
          "y": 0.05,
          "yanchor": "bottom",
          "yref": "y3"
         },
         {
          "showarrow": false,
          "text": "p_val = 0.05",
          "x": 1,
          "xanchor": "right",
          "xref": "x4 domain",
          "y": 0.05,
          "yanchor": "bottom",
          "yref": "y4"
         }
        ],
        "height": 800,
        "legend": {
         "title": {
          "text": "cell_type"
         },
         "tracegroupgap": 0
        },
        "margin": {
         "t": 60
        },
        "shapes": [
         {
          "line": {
           "color": "gray",
           "dash": "dash",
           "width": 3
          },
          "type": "line",
          "x0": 0,
          "x1": 1,
          "xref": "x domain",
          "y0": 0.05,
          "y1": 0.05,
          "yref": "y"
         },
         {
          "line": {
           "color": "gray",
           "dash": "dash",
           "width": 3
          },
          "type": "line",
          "x0": 0,
          "x1": 1,
          "xref": "x2 domain",
          "y0": 0.05,
          "y1": 0.05,
          "yref": "y2"
         },
         {
          "line": {
           "color": "gray",
           "dash": "dash",
           "width": 3
          },
          "type": "line",
          "x0": 0,
          "x1": 1,
          "xref": "x3 domain",
          "y0": 0.05,
          "y1": 0.05,
          "yref": "y3"
         },
         {
          "line": {
           "color": "gray",
           "dash": "dash",
           "width": 3
          },
          "type": "line",
          "x0": 0,
          "x1": 1,
          "xref": "x4 domain",
          "y0": 0.05,
          "y1": 0.05,
          "yref": "y4"
         },
         {
          "fillcolor": "red",
          "line": {
           "width": 0
          },
          "opacity": 0.2,
          "type": "rect",
          "x0": 0,
          "x1": 1,
          "xref": "x domain",
          "y0": 0.05,
          "y1": 0,
          "yref": "y"
         },
         {
          "fillcolor": "red",
          "line": {
           "width": 0
          },
          "opacity": 0.2,
          "type": "rect",
          "x0": 0,
          "x1": 1,
          "xref": "x2 domain",
          "y0": 0.05,
          "y1": 0,
          "yref": "y2"
         },
         {
          "fillcolor": "red",
          "line": {
           "width": 0
          },
          "opacity": 0.2,
          "type": "rect",
          "x0": 0,
          "x1": 1,
          "xref": "x3 domain",
          "y0": 0.05,
          "y1": 0,
          "yref": "y3"
         },
         {
          "fillcolor": "red",
          "line": {
           "width": 0
          },
          "opacity": 0.2,
          "type": "rect",
          "x0": 0,
          "x1": 1,
          "xref": "x4 domain",
          "y0": 0.05,
          "y1": 0,
          "yref": "y4"
         }
        ],
        "template": {
         "data": {
          "bar": [
           {
            "error_x": {
             "color": "#2a3f5f"
            },
            "error_y": {
             "color": "#2a3f5f"
            },
            "marker": {
             "line": {
              "color": "#E5ECF6",
              "width": 0.5
             },
             "pattern": {
              "fillmode": "overlay",
              "size": 10,
              "solidity": 0.2
             }
            },
            "type": "bar"
           }
          ],
          "barpolar": [
           {
            "marker": {
             "line": {
              "color": "#E5ECF6",
              "width": 0.5
             },
             "pattern": {
              "fillmode": "overlay",
              "size": 10,
              "solidity": 0.2
             }
            },
            "type": "barpolar"
           }
          ],
          "carpet": [
           {
            "aaxis": {
             "endlinecolor": "#2a3f5f",
             "gridcolor": "white",
             "linecolor": "white",
             "minorgridcolor": "white",
             "startlinecolor": "#2a3f5f"
            },
            "baxis": {
             "endlinecolor": "#2a3f5f",
             "gridcolor": "white",
             "linecolor": "white",
             "minorgridcolor": "white",
             "startlinecolor": "#2a3f5f"
            },
            "type": "carpet"
           }
          ],
          "choropleth": [
           {
            "colorbar": {
             "outlinewidth": 0,
             "ticks": ""
            },
            "type": "choropleth"
           }
          ],
          "contour": [
           {
            "colorbar": {
             "outlinewidth": 0,
             "ticks": ""
            },
            "colorscale": [
             [
              0,
              "#0d0887"
             ],
             [
              0.1111111111111111,
              "#46039f"
             ],
             [
              0.2222222222222222,
              "#7201a8"
             ],
             [
              0.3333333333333333,
              "#9c179e"
             ],
             [
              0.4444444444444444,
              "#bd3786"
             ],
             [
              0.5555555555555556,
              "#d8576b"
             ],
             [
              0.6666666666666666,
              "#ed7953"
             ],
             [
              0.7777777777777778,
              "#fb9f3a"
             ],
             [
              0.8888888888888888,
              "#fdca26"
             ],
             [
              1,
              "#f0f921"
             ]
            ],
            "type": "contour"
           }
          ],
          "contourcarpet": [
           {
            "colorbar": {
             "outlinewidth": 0,
             "ticks": ""
            },
            "type": "contourcarpet"
           }
          ],
          "heatmap": [
           {
            "colorbar": {
             "outlinewidth": 0,
             "ticks": ""
            },
            "colorscale": [
             [
              0,
              "#0d0887"
             ],
             [
              0.1111111111111111,
              "#46039f"
             ],
             [
              0.2222222222222222,
              "#7201a8"
             ],
             [
              0.3333333333333333,
              "#9c179e"
             ],
             [
              0.4444444444444444,
              "#bd3786"
             ],
             [
              0.5555555555555556,
              "#d8576b"
             ],
             [
              0.6666666666666666,
              "#ed7953"
             ],
             [
              0.7777777777777778,
              "#fb9f3a"
             ],
             [
              0.8888888888888888,
              "#fdca26"
             ],
             [
              1,
              "#f0f921"
             ]
            ],
            "type": "heatmap"
           }
          ],
          "heatmapgl": [
           {
            "colorbar": {
             "outlinewidth": 0,
             "ticks": ""
            },
            "colorscale": [
             [
              0,
              "#0d0887"
             ],
             [
              0.1111111111111111,
              "#46039f"
             ],
             [
              0.2222222222222222,
              "#7201a8"
             ],
             [
              0.3333333333333333,
              "#9c179e"
             ],
             [
              0.4444444444444444,
              "#bd3786"
             ],
             [
              0.5555555555555556,
              "#d8576b"
             ],
             [
              0.6666666666666666,
              "#ed7953"
             ],
             [
              0.7777777777777778,
              "#fb9f3a"
             ],
             [
              0.8888888888888888,
              "#fdca26"
             ],
             [
              1,
              "#f0f921"
             ]
            ],
            "type": "heatmapgl"
           }
          ],
          "histogram": [
           {
            "marker": {
             "pattern": {
              "fillmode": "overlay",
              "size": 10,
              "solidity": 0.2
             }
            },
            "type": "histogram"
           }
          ],
          "histogram2d": [
           {
            "colorbar": {
             "outlinewidth": 0,
             "ticks": ""
            },
            "colorscale": [
             [
              0,
              "#0d0887"
             ],
             [
              0.1111111111111111,
              "#46039f"
             ],
             [
              0.2222222222222222,
              "#7201a8"
             ],
             [
              0.3333333333333333,
              "#9c179e"
             ],
             [
              0.4444444444444444,
              "#bd3786"
             ],
             [
              0.5555555555555556,
              "#d8576b"
             ],
             [
              0.6666666666666666,
              "#ed7953"
             ],
             [
              0.7777777777777778,
              "#fb9f3a"
             ],
             [
              0.8888888888888888,
              "#fdca26"
             ],
             [
              1,
              "#f0f921"
             ]
            ],
            "type": "histogram2d"
           }
          ],
          "histogram2dcontour": [
           {
            "colorbar": {
             "outlinewidth": 0,
             "ticks": ""
            },
            "colorscale": [
             [
              0,
              "#0d0887"
             ],
             [
              0.1111111111111111,
              "#46039f"
             ],
             [
              0.2222222222222222,
              "#7201a8"
             ],
             [
              0.3333333333333333,
              "#9c179e"
             ],
             [
              0.4444444444444444,
              "#bd3786"
             ],
             [
              0.5555555555555556,
              "#d8576b"
             ],
             [
              0.6666666666666666,
              "#ed7953"
             ],
             [
              0.7777777777777778,
              "#fb9f3a"
             ],
             [
              0.8888888888888888,
              "#fdca26"
             ],
             [
              1,
              "#f0f921"
             ]
            ],
            "type": "histogram2dcontour"
           }
          ],
          "mesh3d": [
           {
            "colorbar": {
             "outlinewidth": 0,
             "ticks": ""
            },
            "type": "mesh3d"
           }
          ],
          "parcoords": [
           {
            "line": {
             "colorbar": {
              "outlinewidth": 0,
              "ticks": ""
             }
            },
            "type": "parcoords"
           }
          ],
          "pie": [
           {
            "automargin": true,
            "type": "pie"
           }
          ],
          "scatter": [
           {
            "fillpattern": {
             "fillmode": "overlay",
             "size": 10,
             "solidity": 0.2
            },
            "type": "scatter"
           }
          ],
          "scatter3d": [
           {
            "line": {
             "colorbar": {
              "outlinewidth": 0,
              "ticks": ""
             }
            },
            "marker": {
             "colorbar": {
              "outlinewidth": 0,
              "ticks": ""
             }
            },
            "type": "scatter3d"
           }
          ],
          "scattercarpet": [
           {
            "marker": {
             "colorbar": {
              "outlinewidth": 0,
              "ticks": ""
             }
            },
            "type": "scattercarpet"
           }
          ],
          "scattergeo": [
           {
            "marker": {
             "colorbar": {
              "outlinewidth": 0,
              "ticks": ""
             }
            },
            "type": "scattergeo"
           }
          ],
          "scattergl": [
           {
            "marker": {
             "colorbar": {
              "outlinewidth": 0,
              "ticks": ""
             }
            },
            "type": "scattergl"
           }
          ],
          "scattermapbox": [
           {
            "marker": {
             "colorbar": {
              "outlinewidth": 0,
              "ticks": ""
             }
            },
            "type": "scattermapbox"
           }
          ],
          "scatterpolar": [
           {
            "marker": {
             "colorbar": {
              "outlinewidth": 0,
              "ticks": ""
             }
            },
            "type": "scatterpolar"
           }
          ],
          "scatterpolargl": [
           {
            "marker": {
             "colorbar": {
              "outlinewidth": 0,
              "ticks": ""
             }
            },
            "type": "scatterpolargl"
           }
          ],
          "scatterternary": [
           {
            "marker": {
             "colorbar": {
              "outlinewidth": 0,
              "ticks": ""
             }
            },
            "type": "scatterternary"
           }
          ],
          "surface": [
           {
            "colorbar": {
             "outlinewidth": 0,
             "ticks": ""
            },
            "colorscale": [
             [
              0,
              "#0d0887"
             ],
             [
              0.1111111111111111,
              "#46039f"
             ],
             [
              0.2222222222222222,
              "#7201a8"
             ],
             [
              0.3333333333333333,
              "#9c179e"
             ],
             [
              0.4444444444444444,
              "#bd3786"
             ],
             [
              0.5555555555555556,
              "#d8576b"
             ],
             [
              0.6666666666666666,
              "#ed7953"
             ],
             [
              0.7777777777777778,
              "#fb9f3a"
             ],
             [
              0.8888888888888888,
              "#fdca26"
             ],
             [
              1,
              "#f0f921"
             ]
            ],
            "type": "surface"
           }
          ],
          "table": [
           {
            "cells": {
             "fill": {
              "color": "#EBF0F8"
             },
             "line": {
              "color": "white"
             }
            },
            "header": {
             "fill": {
              "color": "#C8D4E3"
             },
             "line": {
              "color": "white"
             }
            },
            "type": "table"
           }
          ]
         },
         "layout": {
          "annotationdefaults": {
           "arrowcolor": "#2a3f5f",
           "arrowhead": 0,
           "arrowwidth": 1
          },
          "autotypenumbers": "strict",
          "coloraxis": {
           "colorbar": {
            "outlinewidth": 0,
            "ticks": ""
           }
          },
          "colorscale": {
           "diverging": [
            [
             0,
             "#8e0152"
            ],
            [
             0.1,
             "#c51b7d"
            ],
            [
             0.2,
             "#de77ae"
            ],
            [
             0.3,
             "#f1b6da"
            ],
            [
             0.4,
             "#fde0ef"
            ],
            [
             0.5,
             "#f7f7f7"
            ],
            [
             0.6,
             "#e6f5d0"
            ],
            [
             0.7,
             "#b8e186"
            ],
            [
             0.8,
             "#7fbc41"
            ],
            [
             0.9,
             "#4d9221"
            ],
            [
             1,
             "#276419"
            ]
           ],
           "sequential": [
            [
             0,
             "#0d0887"
            ],
            [
             0.1111111111111111,
             "#46039f"
            ],
            [
             0.2222222222222222,
             "#7201a8"
            ],
            [
             0.3333333333333333,
             "#9c179e"
            ],
            [
             0.4444444444444444,
             "#bd3786"
            ],
            [
             0.5555555555555556,
             "#d8576b"
            ],
            [
             0.6666666666666666,
             "#ed7953"
            ],
            [
             0.7777777777777778,
             "#fb9f3a"
            ],
            [
             0.8888888888888888,
             "#fdca26"
            ],
            [
             1,
             "#f0f921"
            ]
           ],
           "sequentialminus": [
            [
             0,
             "#0d0887"
            ],
            [
             0.1111111111111111,
             "#46039f"
            ],
            [
             0.2222222222222222,
             "#7201a8"
            ],
            [
             0.3333333333333333,
             "#9c179e"
            ],
            [
             0.4444444444444444,
             "#bd3786"
            ],
            [
             0.5555555555555556,
             "#d8576b"
            ],
            [
             0.6666666666666666,
             "#ed7953"
            ],
            [
             0.7777777777777778,
             "#fb9f3a"
            ],
            [
             0.8888888888888888,
             "#fdca26"
            ],
            [
             1,
             "#f0f921"
            ]
           ]
          },
          "colorway": [
           "#636efa",
           "#EF553B",
           "#00cc96",
           "#ab63fa",
           "#FFA15A",
           "#19d3f3",
           "#FF6692",
           "#B6E880",
           "#FF97FF",
           "#FECB52"
          ],
          "font": {
           "color": "#2a3f5f"
          },
          "geo": {
           "bgcolor": "white",
           "lakecolor": "white",
           "landcolor": "#E5ECF6",
           "showlakes": true,
           "showland": true,
           "subunitcolor": "white"
          },
          "hoverlabel": {
           "align": "left"
          },
          "hovermode": "closest",
          "mapbox": {
           "style": "light"
          },
          "paper_bgcolor": "white",
          "plot_bgcolor": "#E5ECF6",
          "polar": {
           "angularaxis": {
            "gridcolor": "white",
            "linecolor": "white",
            "ticks": ""
           },
           "bgcolor": "#E5ECF6",
           "radialaxis": {
            "gridcolor": "white",
            "linecolor": "white",
            "ticks": ""
           }
          },
          "scene": {
           "xaxis": {
            "backgroundcolor": "#E5ECF6",
            "gridcolor": "white",
            "gridwidth": 2,
            "linecolor": "white",
            "showbackground": true,
            "ticks": "",
            "zerolinecolor": "white"
           },
           "yaxis": {
            "backgroundcolor": "#E5ECF6",
            "gridcolor": "white",
            "gridwidth": 2,
            "linecolor": "white",
            "showbackground": true,
            "ticks": "",
            "zerolinecolor": "white"
           },
           "zaxis": {
            "backgroundcolor": "#E5ECF6",
            "gridcolor": "white",
            "gridwidth": 2,
            "linecolor": "white",
            "showbackground": true,
            "ticks": "",
            "zerolinecolor": "white"
           }
          },
          "shapedefaults": {
           "line": {
            "color": "#2a3f5f"
           }
          },
          "ternary": {
           "aaxis": {
            "gridcolor": "white",
            "linecolor": "white",
            "ticks": ""
           },
           "baxis": {
            "gridcolor": "white",
            "linecolor": "white",
            "ticks": ""
           },
           "bgcolor": "#E5ECF6",
           "caxis": {
            "gridcolor": "white",
            "linecolor": "white",
            "ticks": ""
           }
          },
          "title": {
           "x": 0.05
          },
          "xaxis": {
           "automargin": true,
           "gridcolor": "white",
           "linecolor": "white",
           "ticks": "",
           "title": {
            "standoff": 15
           },
           "zerolinecolor": "white",
           "zerolinewidth": 2
          },
          "yaxis": {
           "automargin": true,
           "gridcolor": "white",
           "linecolor": "white",
           "ticks": "",
           "title": {
            "standoff": 15
           },
           "zerolinecolor": "white",
           "zerolinewidth": 2
          }
         }
        },
        "title": {
         "text": "<b>Repeated Measures ANOVA Scores per covariate</b> <br> H0: average normalized gene expression is the same in all covariate entities <br><br>",
         "x": 0.5,
         "y": 0.98
        },
        "width": 1000,
        "xaxis": {
         "anchor": "y",
         "domain": [
          0,
          0.48
         ],
         "title": {
          "text": "method"
         }
        },
        "xaxis2": {
         "anchor": "y2",
         "domain": [
          0.5,
          0.98
         ],
         "matches": "x",
         "title": {
          "text": "method"
         }
        },
        "xaxis3": {
         "anchor": "y3",
         "domain": [
          0,
          0.48
         ],
         "matches": "x",
         "showticklabels": false
        },
        "xaxis4": {
         "anchor": "y4",
         "domain": [
          0.5,
          0.98
         ],
         "matches": "x",
         "showticklabels": false
        },
        "yaxis": {
         "anchor": "x",
         "domain": [
          0,
          0.485
         ],
         "title": {
          "text": "p_val"
         }
        },
        "yaxis2": {
         "anchor": "x2",
         "domain": [
          0,
          0.485
         ],
         "matches": "y",
         "showticklabels": false
        },
        "yaxis3": {
         "anchor": "x3",
         "domain": [
          0.515,
          1
         ],
         "matches": "y",
         "title": {
          "text": "p_val"
         }
        },
        "yaxis4": {
         "anchor": "x4",
         "domain": [
          0.515,
          1
         ],
         "matches": "y",
         "showticklabels": false
        }
       }
      },
      "text/html": [
       "<div>                            <div id=\"6a9afcf3-acf2-4cdc-8741-8f810ed3f792\" class=\"plotly-graph-div\" style=\"height:800px; width:1000px;\"></div>            <script type=\"text/javascript\">                require([\"plotly\"], function(Plotly) {                    window.PLOTLYENV=window.PLOTLYENV || {};                                    if (document.getElementById(\"6a9afcf3-acf2-4cdc-8741-8f810ed3f792\")) {                    Plotly.newPlot(                        \"6a9afcf3-acf2-4cdc-8741-8f810ed3f792\",                        [{\"hovertemplate\":\"cell_type=plasma cell, lymph node<br>covariate=dataset_id<br>gene_type=Marker Gene<br>method=%{x}<br>p_val=%{y}<extra></extra>\",\"legendgroup\":\"plasma cell, lymph node\",\"marker\":{\"color\":\"#88d5d4\",\"size\":7,\"symbol\":\"circle\"},\"mode\":\"markers\",\"name\":\"plasma cell, lymph node\",\"orientation\":\"v\",\"showlegend\":true,\"x\":[\"raw\",\"rankit\",\"log (CPM)\"],\"xaxis\":\"x3\",\"y\":[0.012655639682429604,0.20150993161440162,0.12632347887263806],\"yaxis\":\"y3\",\"type\":\"scatter\"},{\"hovertemplate\":\"cell_type=plasma cell, lymph node<br>covariate=dataset_id<br>gene_type=Housekeeping Gene<br>method=%{x}<br>p_val=%{y}<extra></extra>\",\"legendgroup\":\"plasma cell, lymph node\",\"marker\":{\"color\":\"#88d5d4\",\"size\":7,\"symbol\":\"circle\"},\"mode\":\"markers\",\"name\":\"plasma cell, lymph node\",\"orientation\":\"v\",\"showlegend\":false,\"x\":[\"raw\",\"rankit\",\"log (CPM)\"],\"xaxis\":\"x4\",\"y\":[0.0960073713531376,0.41518538461278914,0.21129070074165932],\"yaxis\":\"y4\",\"type\":\"scatter\"},{\"hovertemplate\":\"cell_type=plasma cell, lymph node<br>covariate=assay<br>gene_type=Marker Gene<br>method=%{x}<br>p_val=%{y}<extra></extra>\",\"legendgroup\":\"plasma cell, lymph node\",\"marker\":{\"color\":\"#88d5d4\",\"size\":7,\"symbol\":\"circle\"},\"mode\":\"markers\",\"name\":\"plasma cell, lymph node\",\"orientation\":\"v\",\"showlegend\":false,\"x\":[\"raw\",\"rankit\",\"log (CPM)\"],\"xaxis\":\"x\",\"y\":[0.020515397362467935,0.19276530290888919,0.00013535316213851543],\"yaxis\":\"y\",\"type\":\"scatter\"},{\"hovertemplate\":\"cell_type=plasma cell, lymph node<br>covariate=assay<br>gene_type=Housekeeping Gene<br>method=%{x}<br>p_val=%{y}<extra></extra>\",\"legendgroup\":\"plasma cell, lymph node\",\"marker\":{\"color\":\"#88d5d4\",\"size\":7,\"symbol\":\"circle\"},\"mode\":\"markers\",\"name\":\"plasma cell, lymph node\",\"orientation\":\"v\",\"showlegend\":false,\"x\":[\"raw\",\"rankit\",\"log (CPM)\"],\"xaxis\":\"x2\",\"y\":[0.05565648731327781,0.2548835911566544,0.022428036902166937],\"yaxis\":\"y2\",\"type\":\"scatter\"},{\"hovertemplate\":\"cell_type=T cell, kidney<br>covariate=dataset_id<br>gene_type=Marker Gene<br>method=%{x}<br>p_val=%{y}<extra></extra>\",\"legendgroup\":\"T cell, kidney\",\"marker\":{\"color\":\"#f7cb6c\",\"size\":7,\"symbol\":\"circle\"},\"mode\":\"markers\",\"name\":\"T cell, kidney\",\"orientation\":\"v\",\"showlegend\":true,\"x\":[\"raw\",\"rankit\",\"log (CPM)\"],\"xaxis\":\"x3\",\"y\":[0.10215326599185892,0.5941156878734735,0.6522568677590544],\"yaxis\":\"y3\",\"type\":\"scatter\"},{\"hovertemplate\":\"cell_type=T cell, kidney<br>covariate=dataset_id<br>gene_type=Housekeeping Gene<br>method=%{x}<br>p_val=%{y}<extra></extra>\",\"legendgroup\":\"T cell, kidney\",\"marker\":{\"color\":\"#f7cb6c\",\"size\":7,\"symbol\":\"circle\"},\"mode\":\"markers\",\"name\":\"T cell, kidney\",\"orientation\":\"v\",\"showlegend\":false,\"x\":[\"raw\",\"rankit\",\"log (CPM)\"],\"xaxis\":\"x4\",\"y\":[0.000561268602972191,0.059904666140829184,0.7106845985961658],\"yaxis\":\"y4\",\"type\":\"scatter\"},{\"hovertemplate\":\"cell_type=T cell, kidney<br>covariate=assay<br>gene_type=Marker Gene<br>method=%{x}<br>p_val=%{y}<extra></extra>\",\"legendgroup\":\"T cell, kidney\",\"marker\":{\"color\":\"#f7cb6c\",\"size\":7,\"symbol\":\"circle\"},\"mode\":\"markers\",\"name\":\"T cell, kidney\",\"orientation\":\"v\",\"showlegend\":false,\"x\":[\"raw\",\"rankit\",\"log (CPM)\"],\"xaxis\":\"x\",\"y\":[0.003145646584263153,0.00020125133845953067,1.484878499548624e-05],\"yaxis\":\"y\",\"type\":\"scatter\"},{\"hovertemplate\":\"cell_type=T cell, kidney<br>covariate=assay<br>gene_type=Housekeeping Gene<br>method=%{x}<br>p_val=%{y}<extra></extra>\",\"legendgroup\":\"T cell, kidney\",\"marker\":{\"color\":\"#f7cb6c\",\"size\":7,\"symbol\":\"circle\"},\"mode\":\"markers\",\"name\":\"T cell, kidney\",\"orientation\":\"v\",\"showlegend\":false,\"x\":[\"raw\",\"rankit\",\"log (CPM)\"],\"xaxis\":\"x2\",\"y\":[0.0038083645012494524,0.02660813412710168,0.37833716985565535],\"yaxis\":\"y2\",\"type\":\"scatter\"},{\"hovertemplate\":\"cell_type=alveolar type 2 fibroblast cell, lung<br>covariate=dataset_id<br>gene_type=Marker Gene<br>method=%{x}<br>p_val=%{y}<extra></extra>\",\"legendgroup\":\"alveolar type 2 fibroblast cell, lung\",\"marker\":{\"color\":\"#f3a5ac\",\"size\":7,\"symbol\":\"circle\"},\"mode\":\"markers\",\"name\":\"alveolar type 2 fibroblast cell, lung\",\"orientation\":\"v\",\"showlegend\":true,\"x\":[\"raw\",\"rankit\",\"log (CPM)\"],\"xaxis\":\"x3\",\"y\":[0.09979499477197475,0.21942726548275637,0.2580255123467229],\"yaxis\":\"y3\",\"type\":\"scatter\"},{\"hovertemplate\":\"cell_type=alveolar type 2 fibroblast cell, lung<br>covariate=dataset_id<br>gene_type=Housekeeping Gene<br>method=%{x}<br>p_val=%{y}<extra></extra>\",\"legendgroup\":\"alveolar type 2 fibroblast cell, lung\",\"marker\":{\"color\":\"#f3a5ac\",\"size\":7,\"symbol\":\"circle\"},\"mode\":\"markers\",\"name\":\"alveolar type 2 fibroblast cell, lung\",\"orientation\":\"v\",\"showlegend\":false,\"x\":[\"raw\",\"rankit\",\"log (CPM)\"],\"xaxis\":\"x4\",\"y\":[0.12229467829323293,0.07641291474079687,0.26587576887925546],\"yaxis\":\"y4\",\"type\":\"scatter\"},{\"hovertemplate\":\"cell_type=alveolar type 2 fibroblast cell, lung<br>covariate=assay<br>gene_type=Marker Gene<br>method=%{x}<br>p_val=%{y}<extra></extra>\",\"legendgroup\":\"alveolar type 2 fibroblast cell, lung\",\"marker\":{\"color\":\"#f3a5ac\",\"size\":7,\"symbol\":\"circle\"},\"mode\":\"markers\",\"name\":\"alveolar type 2 fibroblast cell, lung\",\"orientation\":\"v\",\"showlegend\":false,\"x\":[\"raw\",\"rankit\",\"log (CPM)\"],\"xaxis\":\"x\",\"y\":[0.0633110274668287,0.7701562247587197,0.9995716333875396],\"yaxis\":\"y\",\"type\":\"scatter\"},{\"hovertemplate\":\"cell_type=alveolar type 2 fibroblast cell, lung<br>covariate=assay<br>gene_type=Housekeeping Gene<br>method=%{x}<br>p_val=%{y}<extra></extra>\",\"legendgroup\":\"alveolar type 2 fibroblast cell, lung\",\"marker\":{\"color\":\"#f3a5ac\",\"size\":7,\"symbol\":\"circle\"},\"mode\":\"markers\",\"name\":\"alveolar type 2 fibroblast cell, lung\",\"orientation\":\"v\",\"showlegend\":false,\"x\":[\"raw\",\"rankit\",\"log (CPM)\"],\"xaxis\":\"x2\",\"y\":[0.01617953860655038,0.457041860050573,0.8467022255457525],\"yaxis\":\"y2\",\"type\":\"scatter\"},{\"hovertemplate\":\"cell_type=syncytiotrophoblast cell, placenta<br>covariate=dataset_id<br>gene_type=Marker Gene<br>method=%{x}<br>p_val=%{y}<extra></extra>\",\"legendgroup\":\"syncytiotrophoblast cell, placenta\",\"marker\":{\"color\":\"#619c80\",\"size\":7,\"symbol\":\"circle\"},\"mode\":\"markers\",\"name\":\"syncytiotrophoblast cell, placenta\",\"orientation\":\"v\",\"showlegend\":true,\"x\":[\"raw\",\"rankit\",\"log (CPM)\"],\"xaxis\":\"x3\",\"y\":[0.12104520192551618,0.9738908060358498,0.9508433662806305],\"yaxis\":\"y3\",\"type\":\"scatter\"},{\"hovertemplate\":\"cell_type=syncytiotrophoblast cell, placenta<br>covariate=dataset_id<br>gene_type=Housekeeping Gene<br>method=%{x}<br>p_val=%{y}<extra></extra>\",\"legendgroup\":\"syncytiotrophoblast cell, placenta\",\"marker\":{\"color\":\"#619c80\",\"size\":7,\"symbol\":\"circle\"},\"mode\":\"markers\",\"name\":\"syncytiotrophoblast cell, placenta\",\"orientation\":\"v\",\"showlegend\":false,\"x\":[\"raw\",\"rankit\",\"log (CPM)\"],\"xaxis\":\"x4\",\"y\":[0.05180152341865535,0.07213097122475684,0.24022900388233565],\"yaxis\":\"y4\",\"type\":\"scatter\"},{\"hovertemplate\":\"cell_type=syncytiotrophoblast cell, placenta<br>covariate=assay<br>gene_type=Marker Gene<br>method=%{x}<br>p_val=%{y}<extra></extra>\",\"legendgroup\":\"syncytiotrophoblast cell, placenta\",\"marker\":{\"color\":\"#619c80\",\"size\":7,\"symbol\":\"circle\"},\"mode\":\"markers\",\"name\":\"syncytiotrophoblast cell, placenta\",\"orientation\":\"v\",\"showlegend\":false,\"x\":[\"raw\",\"rankit\",\"log (CPM)\"],\"xaxis\":\"x\",\"y\":[0.13379335514789445,0.874402605540352,0.9339926367645914],\"yaxis\":\"y\",\"type\":\"scatter\"},{\"hovertemplate\":\"cell_type=syncytiotrophoblast cell, placenta<br>covariate=assay<br>gene_type=Housekeeping Gene<br>method=%{x}<br>p_val=%{y}<extra></extra>\",\"legendgroup\":\"syncytiotrophoblast cell, placenta\",\"marker\":{\"color\":\"#619c80\",\"size\":7,\"symbol\":\"circle\"},\"mode\":\"markers\",\"name\":\"syncytiotrophoblast cell, placenta\",\"orientation\":\"v\",\"showlegend\":false,\"x\":[\"raw\",\"rankit\",\"log (CPM)\"],\"xaxis\":\"x2\",\"y\":[0.07596489993275736,0.05599445613386333,0.26271402629088875],\"yaxis\":\"y2\",\"type\":\"scatter\"},{\"hovertemplate\":\"cell_type=plasma cell, bone marrow<br>covariate=dataset_id<br>gene_type=Marker Gene<br>method=%{x}<br>p_val=%{y}<extra></extra>\",\"legendgroup\":\"plasma cell, bone marrow\",\"marker\":{\"color\":\"#df7670\",\"size\":7,\"symbol\":\"circle\"},\"mode\":\"markers\",\"name\":\"plasma cell, bone marrow\",\"orientation\":\"v\",\"showlegend\":true,\"x\":[\"raw\",\"rankit\",\"log (CPM)\"],\"xaxis\":\"x3\",\"y\":[0.23435407157136573,0.5232863139009079,0.10656365541782134],\"yaxis\":\"y3\",\"type\":\"scatter\"},{\"hovertemplate\":\"cell_type=plasma cell, bone marrow<br>covariate=dataset_id<br>gene_type=Housekeeping Gene<br>method=%{x}<br>p_val=%{y}<extra></extra>\",\"legendgroup\":\"plasma cell, bone marrow\",\"marker\":{\"color\":\"#df7670\",\"size\":7,\"symbol\":\"circle\"},\"mode\":\"markers\",\"name\":\"plasma cell, bone marrow\",\"orientation\":\"v\",\"showlegend\":false,\"x\":[\"raw\",\"rankit\",\"log (CPM)\"],\"xaxis\":\"x4\",\"y\":[0.3233460248350089,0.6926674918215688,0.00032090487037031955],\"yaxis\":\"y4\",\"type\":\"scatter\"},{\"hovertemplate\":\"cell_type=plasma cell, bone marrow<br>covariate=assay<br>gene_type=Marker Gene<br>method=%{x}<br>p_val=%{y}<extra></extra>\",\"legendgroup\":\"plasma cell, bone marrow\",\"marker\":{\"color\":\"#df7670\",\"size\":7,\"symbol\":\"circle\"},\"mode\":\"markers\",\"name\":\"plasma cell, bone marrow\",\"orientation\":\"v\",\"showlegend\":false,\"x\":[\"raw\",\"rankit\",\"log (CPM)\"],\"xaxis\":\"x\",\"y\":[0.17406380842385138,0.436027899382721,0.053113535132747115],\"yaxis\":\"y\",\"type\":\"scatter\"},{\"hovertemplate\":\"cell_type=plasma cell, bone marrow<br>covariate=assay<br>gene_type=Housekeeping Gene<br>method=%{x}<br>p_val=%{y}<extra></extra>\",\"legendgroup\":\"plasma cell, bone marrow\",\"marker\":{\"color\":\"#df7670\",\"size\":7,\"symbol\":\"circle\"},\"mode\":\"markers\",\"name\":\"plasma cell, bone marrow\",\"orientation\":\"v\",\"showlegend\":false,\"x\":[\"raw\",\"rankit\",\"log (CPM)\"],\"xaxis\":\"x2\",\"y\":[0.37598925338097294,0.4186228085281771,0.00044289888244831895],\"yaxis\":\"y2\",\"type\":\"scatter\"}],                        {\"annotations\":[{\"showarrow\":false,\"text\":\"gene_type=Marker Gene\",\"x\":0.24,\"xanchor\":\"center\",\"xref\":\"paper\",\"y\":1.0,\"yanchor\":\"bottom\",\"yref\":\"paper\"},{\"showarrow\":false,\"text\":\"gene_type=Housekeeping Gene\",\"x\":0.74,\"xanchor\":\"center\",\"xref\":\"paper\",\"y\":1.0,\"yanchor\":\"bottom\",\"yref\":\"paper\"},{\"showarrow\":false,\"text\":\"covariate=assay\",\"textangle\":90,\"x\":0.98,\"xanchor\":\"left\",\"xref\":\"paper\",\"y\":0.2425,\"yanchor\":\"middle\",\"yref\":\"paper\"},{\"showarrow\":false,\"text\":\"covariate=dataset_id\",\"textangle\":90,\"x\":0.98,\"xanchor\":\"left\",\"xref\":\"paper\",\"y\":0.7575000000000001,\"yanchor\":\"middle\",\"yref\":\"paper\"},{\"showarrow\":false,\"text\":\"p_val = 0.05\",\"x\":1,\"xanchor\":\"right\",\"xref\":\"x domain\",\"y\":0.05,\"yanchor\":\"bottom\",\"yref\":\"y\"},{\"showarrow\":false,\"text\":\"p_val = 0.05\",\"x\":1,\"xanchor\":\"right\",\"xref\":\"x2 domain\",\"y\":0.05,\"yanchor\":\"bottom\",\"yref\":\"y2\"},{\"showarrow\":false,\"text\":\"p_val = 0.05\",\"x\":1,\"xanchor\":\"right\",\"xref\":\"x3 domain\",\"y\":0.05,\"yanchor\":\"bottom\",\"yref\":\"y3\"},{\"showarrow\":false,\"text\":\"p_val = 0.05\",\"x\":1,\"xanchor\":\"right\",\"xref\":\"x4 domain\",\"y\":0.05,\"yanchor\":\"bottom\",\"yref\":\"y4\"}],\"height\":800,\"legend\":{\"title\":{\"text\":\"cell_type\"},\"tracegroupgap\":0},\"margin\":{\"t\":60},\"shapes\":[{\"line\":{\"color\":\"gray\",\"dash\":\"dash\",\"width\":3},\"type\":\"line\",\"x0\":0,\"x1\":1,\"xref\":\"x domain\",\"y0\":0.05,\"y1\":0.05,\"yref\":\"y\"},{\"line\":{\"color\":\"gray\",\"dash\":\"dash\",\"width\":3},\"type\":\"line\",\"x0\":0,\"x1\":1,\"xref\":\"x2 domain\",\"y0\":0.05,\"y1\":0.05,\"yref\":\"y2\"},{\"line\":{\"color\":\"gray\",\"dash\":\"dash\",\"width\":3},\"type\":\"line\",\"x0\":0,\"x1\":1,\"xref\":\"x3 domain\",\"y0\":0.05,\"y1\":0.05,\"yref\":\"y3\"},{\"line\":{\"color\":\"gray\",\"dash\":\"dash\",\"width\":3},\"type\":\"line\",\"x0\":0,\"x1\":1,\"xref\":\"x4 domain\",\"y0\":0.05,\"y1\":0.05,\"yref\":\"y4\"},{\"fillcolor\":\"red\",\"line\":{\"width\":0},\"opacity\":0.2,\"type\":\"rect\",\"x0\":0,\"x1\":1,\"xref\":\"x domain\",\"y0\":0.05,\"y1\":0,\"yref\":\"y\"},{\"fillcolor\":\"red\",\"line\":{\"width\":0},\"opacity\":0.2,\"type\":\"rect\",\"x0\":0,\"x1\":1,\"xref\":\"x2 domain\",\"y0\":0.05,\"y1\":0,\"yref\":\"y2\"},{\"fillcolor\":\"red\",\"line\":{\"width\":0},\"opacity\":0.2,\"type\":\"rect\",\"x0\":0,\"x1\":1,\"xref\":\"x3 domain\",\"y0\":0.05,\"y1\":0,\"yref\":\"y3\"},{\"fillcolor\":\"red\",\"line\":{\"width\":0},\"opacity\":0.2,\"type\":\"rect\",\"x0\":0,\"x1\":1,\"xref\":\"x4 domain\",\"y0\":0.05,\"y1\":0,\"yref\":\"y4\"}],\"template\":{\"data\":{\"barpolar\":[{\"marker\":{\"line\":{\"color\":\"#E5ECF6\",\"width\":0.5},\"pattern\":{\"fillmode\":\"overlay\",\"size\":10,\"solidity\":0.2}},\"type\":\"barpolar\"}],\"bar\":[{\"error_x\":{\"color\":\"#2a3f5f\"},\"error_y\":{\"color\":\"#2a3f5f\"},\"marker\":{\"line\":{\"color\":\"#E5ECF6\",\"width\":0.5},\"pattern\":{\"fillmode\":\"overlay\",\"size\":10,\"solidity\":0.2}},\"type\":\"bar\"}],\"carpet\":[{\"aaxis\":{\"endlinecolor\":\"#2a3f5f\",\"gridcolor\":\"white\",\"linecolor\":\"white\",\"minorgridcolor\":\"white\",\"startlinecolor\":\"#2a3f5f\"},\"baxis\":{\"endlinecolor\":\"#2a3f5f\",\"gridcolor\":\"white\",\"linecolor\":\"white\",\"minorgridcolor\":\"white\",\"startlinecolor\":\"#2a3f5f\"},\"type\":\"carpet\"}],\"choropleth\":[{\"colorbar\":{\"outlinewidth\":0,\"ticks\":\"\"},\"type\":\"choropleth\"}],\"contourcarpet\":[{\"colorbar\":{\"outlinewidth\":0,\"ticks\":\"\"},\"type\":\"contourcarpet\"}],\"contour\":[{\"colorbar\":{\"outlinewidth\":0,\"ticks\":\"\"},\"colorscale\":[[0.0,\"#0d0887\"],[0.1111111111111111,\"#46039f\"],[0.2222222222222222,\"#7201a8\"],[0.3333333333333333,\"#9c179e\"],[0.4444444444444444,\"#bd3786\"],[0.5555555555555556,\"#d8576b\"],[0.6666666666666666,\"#ed7953\"],[0.7777777777777778,\"#fb9f3a\"],[0.8888888888888888,\"#fdca26\"],[1.0,\"#f0f921\"]],\"type\":\"contour\"}],\"heatmapgl\":[{\"colorbar\":{\"outlinewidth\":0,\"ticks\":\"\"},\"colorscale\":[[0.0,\"#0d0887\"],[0.1111111111111111,\"#46039f\"],[0.2222222222222222,\"#7201a8\"],[0.3333333333333333,\"#9c179e\"],[0.4444444444444444,\"#bd3786\"],[0.5555555555555556,\"#d8576b\"],[0.6666666666666666,\"#ed7953\"],[0.7777777777777778,\"#fb9f3a\"],[0.8888888888888888,\"#fdca26\"],[1.0,\"#f0f921\"]],\"type\":\"heatmapgl\"}],\"heatmap\":[{\"colorbar\":{\"outlinewidth\":0,\"ticks\":\"\"},\"colorscale\":[[0.0,\"#0d0887\"],[0.1111111111111111,\"#46039f\"],[0.2222222222222222,\"#7201a8\"],[0.3333333333333333,\"#9c179e\"],[0.4444444444444444,\"#bd3786\"],[0.5555555555555556,\"#d8576b\"],[0.6666666666666666,\"#ed7953\"],[0.7777777777777778,\"#fb9f3a\"],[0.8888888888888888,\"#fdca26\"],[1.0,\"#f0f921\"]],\"type\":\"heatmap\"}],\"histogram2dcontour\":[{\"colorbar\":{\"outlinewidth\":0,\"ticks\":\"\"},\"colorscale\":[[0.0,\"#0d0887\"],[0.1111111111111111,\"#46039f\"],[0.2222222222222222,\"#7201a8\"],[0.3333333333333333,\"#9c179e\"],[0.4444444444444444,\"#bd3786\"],[0.5555555555555556,\"#d8576b\"],[0.6666666666666666,\"#ed7953\"],[0.7777777777777778,\"#fb9f3a\"],[0.8888888888888888,\"#fdca26\"],[1.0,\"#f0f921\"]],\"type\":\"histogram2dcontour\"}],\"histogram2d\":[{\"colorbar\":{\"outlinewidth\":0,\"ticks\":\"\"},\"colorscale\":[[0.0,\"#0d0887\"],[0.1111111111111111,\"#46039f\"],[0.2222222222222222,\"#7201a8\"],[0.3333333333333333,\"#9c179e\"],[0.4444444444444444,\"#bd3786\"],[0.5555555555555556,\"#d8576b\"],[0.6666666666666666,\"#ed7953\"],[0.7777777777777778,\"#fb9f3a\"],[0.8888888888888888,\"#fdca26\"],[1.0,\"#f0f921\"]],\"type\":\"histogram2d\"}],\"histogram\":[{\"marker\":{\"pattern\":{\"fillmode\":\"overlay\",\"size\":10,\"solidity\":0.2}},\"type\":\"histogram\"}],\"mesh3d\":[{\"colorbar\":{\"outlinewidth\":0,\"ticks\":\"\"},\"type\":\"mesh3d\"}],\"parcoords\":[{\"line\":{\"colorbar\":{\"outlinewidth\":0,\"ticks\":\"\"}},\"type\":\"parcoords\"}],\"pie\":[{\"automargin\":true,\"type\":\"pie\"}],\"scatter3d\":[{\"line\":{\"colorbar\":{\"outlinewidth\":0,\"ticks\":\"\"}},\"marker\":{\"colorbar\":{\"outlinewidth\":0,\"ticks\":\"\"}},\"type\":\"scatter3d\"}],\"scattercarpet\":[{\"marker\":{\"colorbar\":{\"outlinewidth\":0,\"ticks\":\"\"}},\"type\":\"scattercarpet\"}],\"scattergeo\":[{\"marker\":{\"colorbar\":{\"outlinewidth\":0,\"ticks\":\"\"}},\"type\":\"scattergeo\"}],\"scattergl\":[{\"marker\":{\"colorbar\":{\"outlinewidth\":0,\"ticks\":\"\"}},\"type\":\"scattergl\"}],\"scattermapbox\":[{\"marker\":{\"colorbar\":{\"outlinewidth\":0,\"ticks\":\"\"}},\"type\":\"scattermapbox\"}],\"scatterpolargl\":[{\"marker\":{\"colorbar\":{\"outlinewidth\":0,\"ticks\":\"\"}},\"type\":\"scatterpolargl\"}],\"scatterpolar\":[{\"marker\":{\"colorbar\":{\"outlinewidth\":0,\"ticks\":\"\"}},\"type\":\"scatterpolar\"}],\"scatter\":[{\"fillpattern\":{\"fillmode\":\"overlay\",\"size\":10,\"solidity\":0.2},\"type\":\"scatter\"}],\"scatterternary\":[{\"marker\":{\"colorbar\":{\"outlinewidth\":0,\"ticks\":\"\"}},\"type\":\"scatterternary\"}],\"surface\":[{\"colorbar\":{\"outlinewidth\":0,\"ticks\":\"\"},\"colorscale\":[[0.0,\"#0d0887\"],[0.1111111111111111,\"#46039f\"],[0.2222222222222222,\"#7201a8\"],[0.3333333333333333,\"#9c179e\"],[0.4444444444444444,\"#bd3786\"],[0.5555555555555556,\"#d8576b\"],[0.6666666666666666,\"#ed7953\"],[0.7777777777777778,\"#fb9f3a\"],[0.8888888888888888,\"#fdca26\"],[1.0,\"#f0f921\"]],\"type\":\"surface\"}],\"table\":[{\"cells\":{\"fill\":{\"color\":\"#EBF0F8\"},\"line\":{\"color\":\"white\"}},\"header\":{\"fill\":{\"color\":\"#C8D4E3\"},\"line\":{\"color\":\"white\"}},\"type\":\"table\"}]},\"layout\":{\"annotationdefaults\":{\"arrowcolor\":\"#2a3f5f\",\"arrowhead\":0,\"arrowwidth\":1},\"autotypenumbers\":\"strict\",\"coloraxis\":{\"colorbar\":{\"outlinewidth\":0,\"ticks\":\"\"}},\"colorscale\":{\"diverging\":[[0,\"#8e0152\"],[0.1,\"#c51b7d\"],[0.2,\"#de77ae\"],[0.3,\"#f1b6da\"],[0.4,\"#fde0ef\"],[0.5,\"#f7f7f7\"],[0.6,\"#e6f5d0\"],[0.7,\"#b8e186\"],[0.8,\"#7fbc41\"],[0.9,\"#4d9221\"],[1,\"#276419\"]],\"sequential\":[[0.0,\"#0d0887\"],[0.1111111111111111,\"#46039f\"],[0.2222222222222222,\"#7201a8\"],[0.3333333333333333,\"#9c179e\"],[0.4444444444444444,\"#bd3786\"],[0.5555555555555556,\"#d8576b\"],[0.6666666666666666,\"#ed7953\"],[0.7777777777777778,\"#fb9f3a\"],[0.8888888888888888,\"#fdca26\"],[1.0,\"#f0f921\"]],\"sequentialminus\":[[0.0,\"#0d0887\"],[0.1111111111111111,\"#46039f\"],[0.2222222222222222,\"#7201a8\"],[0.3333333333333333,\"#9c179e\"],[0.4444444444444444,\"#bd3786\"],[0.5555555555555556,\"#d8576b\"],[0.6666666666666666,\"#ed7953\"],[0.7777777777777778,\"#fb9f3a\"],[0.8888888888888888,\"#fdca26\"],[1.0,\"#f0f921\"]]},\"colorway\":[\"#636efa\",\"#EF553B\",\"#00cc96\",\"#ab63fa\",\"#FFA15A\",\"#19d3f3\",\"#FF6692\",\"#B6E880\",\"#FF97FF\",\"#FECB52\"],\"font\":{\"color\":\"#2a3f5f\"},\"geo\":{\"bgcolor\":\"white\",\"lakecolor\":\"white\",\"landcolor\":\"#E5ECF6\",\"showlakes\":true,\"showland\":true,\"subunitcolor\":\"white\"},\"hoverlabel\":{\"align\":\"left\"},\"hovermode\":\"closest\",\"mapbox\":{\"style\":\"light\"},\"paper_bgcolor\":\"white\",\"plot_bgcolor\":\"#E5ECF6\",\"polar\":{\"angularaxis\":{\"gridcolor\":\"white\",\"linecolor\":\"white\",\"ticks\":\"\"},\"bgcolor\":\"#E5ECF6\",\"radialaxis\":{\"gridcolor\":\"white\",\"linecolor\":\"white\",\"ticks\":\"\"}},\"scene\":{\"xaxis\":{\"backgroundcolor\":\"#E5ECF6\",\"gridcolor\":\"white\",\"gridwidth\":2,\"linecolor\":\"white\",\"showbackground\":true,\"ticks\":\"\",\"zerolinecolor\":\"white\"},\"yaxis\":{\"backgroundcolor\":\"#E5ECF6\",\"gridcolor\":\"white\",\"gridwidth\":2,\"linecolor\":\"white\",\"showbackground\":true,\"ticks\":\"\",\"zerolinecolor\":\"white\"},\"zaxis\":{\"backgroundcolor\":\"#E5ECF6\",\"gridcolor\":\"white\",\"gridwidth\":2,\"linecolor\":\"white\",\"showbackground\":true,\"ticks\":\"\",\"zerolinecolor\":\"white\"}},\"shapedefaults\":{\"line\":{\"color\":\"#2a3f5f\"}},\"ternary\":{\"aaxis\":{\"gridcolor\":\"white\",\"linecolor\":\"white\",\"ticks\":\"\"},\"baxis\":{\"gridcolor\":\"white\",\"linecolor\":\"white\",\"ticks\":\"\"},\"bgcolor\":\"#E5ECF6\",\"caxis\":{\"gridcolor\":\"white\",\"linecolor\":\"white\",\"ticks\":\"\"}},\"title\":{\"x\":0.05},\"xaxis\":{\"automargin\":true,\"gridcolor\":\"white\",\"linecolor\":\"white\",\"ticks\":\"\",\"title\":{\"standoff\":15},\"zerolinecolor\":\"white\",\"zerolinewidth\":2},\"yaxis\":{\"automargin\":true,\"gridcolor\":\"white\",\"linecolor\":\"white\",\"ticks\":\"\",\"title\":{\"standoff\":15},\"zerolinecolor\":\"white\",\"zerolinewidth\":2}}},\"title\":{\"text\":\"<b>Repeated Measures ANOVA Scores per covariate</b> <br> H0: average normalized gene expression is the same in all covariate entities <br><br>\",\"x\":0.5,\"y\":0.98},\"width\":1000,\"xaxis\":{\"anchor\":\"y\",\"domain\":[0.0,0.48],\"title\":{\"text\":\"method\"}},\"yaxis\":{\"anchor\":\"x\",\"domain\":[0.0,0.485],\"title\":{\"text\":\"p_val\"}},\"xaxis2\":{\"anchor\":\"y2\",\"domain\":[0.5,0.98],\"matches\":\"x\",\"title\":{\"text\":\"method\"}},\"yaxis2\":{\"anchor\":\"x2\",\"domain\":[0.0,0.485],\"matches\":\"y\",\"showticklabels\":false},\"xaxis3\":{\"anchor\":\"y3\",\"domain\":[0.0,0.48],\"matches\":\"x\",\"showticklabels\":false},\"yaxis3\":{\"anchor\":\"x3\",\"domain\":[0.515,1.0],\"matches\":\"y\",\"title\":{\"text\":\"p_val\"}},\"xaxis4\":{\"anchor\":\"y4\",\"domain\":[0.5,0.98],\"matches\":\"x\",\"showticklabels\":false},\"yaxis4\":{\"anchor\":\"x4\",\"domain\":[0.515,1.0],\"matches\":\"y\",\"showticklabels\":false}},                        {\"responsive\": true}                    ).then(function(){\n",
       "                            \n",
       "var gd = document.getElementById('6a9afcf3-acf2-4cdc-8741-8f810ed3f792');\n",
       "var x = new MutationObserver(function (mutations, observer) {{\n",
       "        var display = window.getComputedStyle(gd).display;\n",
       "        if (!display || display === 'none') {{\n",
       "            console.log([gd, 'removed!']);\n",
       "            Plotly.purge(gd);\n",
       "            observer.disconnect();\n",
       "        }}\n",
       "}});\n",
       "\n",
       "// Listen for the removal of the full notebook cells\n",
       "var notebookContainer = gd.closest('#notebook-container');\n",
       "if (notebookContainer) {{\n",
       "    x.observe(notebookContainer, {childList: true});\n",
       "}}\n",
       "\n",
       "// Listen for the clearing of the current output cell\n",
       "var outputEl = gd.closest('.output');\n",
       "if (outputEl) {{\n",
       "    x.observe(outputEl, {childList: true});\n",
       "}}\n",
       "\n",
       "                        })                };                });            </script>        </div>"
      ]
     },
     "metadata": {},
     "output_type": "display_data"
    }
   ],
   "source": [
    "import plotly.express as px\n",
    "#only genes that are expressed\n",
    "colors = [\"#88d5d4\", \"#f7cb6c\", \"#f3a5ac\", \"#619c80\", \"#df7670\",\"#b19fc9\"]\n",
    "\n",
    "fig = px.scatter(anova_df, y=\"p_val\", x = 'method', facet_row = \"covariate\", facet_col = \"gene_type\", color = \"cell_type\", color_discrete_sequence = colors)\n",
    "fig.update_layout(width=1000,height=800, title_text=\"<b>Repeated Measures ANOVA Scores per covariate</b> <br> H0: average normalized gene expression is the same in all covariate entities <br><br>\", title_x=0.5, title_y = 0.98)\n",
    "fig.add_hline(y=0.05, line_width=3, line_dash=\"dash\", line_color=\"gray\", annotation_text = \"p_val = 0.05\")\n",
    "fig.add_hrect(y0=0.05, y1=0, line_width=0, fillcolor=\"red\", opacity=0.2)\n",
    "fig.update_traces(marker=dict(size=7))\n",
    "pyo.iplot(fig, filename = 'basic-line')"
   ]
  },
  {
   "cell_type": "code",
   "execution_count": 13,
   "metadata": {
    "application/vnd.databricks.v1+cell": {
     "cellMetadata": {
      "byteLimit": 2048000,
      "rowLimit": 10000
     },
     "inputWidgets": {},
     "nuid": "f9c3d693-6c50-4c12-91dc-bf5630c3614b",
     "showTitle": false,
     "title": ""
    }
   },
   "outputs": [],
   "source": [
    "anova_df_agg = anova_df[anova_df['method'] == 'log (CPM)'].groupby('covariate').aggregate(list).reset_index()\n",
    "anova_df_assay_values = anova_df_agg[anova_df_agg['covariate'] == 'assay']['p_val'].to_list()[0]\n",
    "anova_df_dataset_values = anova_df_agg[anova_df_agg['covariate'] == 'dataset_id']['p_val'].to_list()[0]"
   ]
  },
  {
   "cell_type": "code",
   "execution_count": 14,
   "metadata": {
    "application/vnd.databricks.v1+cell": {
     "cellMetadata": {
      "byteLimit": 2048000,
      "rowLimit": 10000
     },
     "inputWidgets": {},
     "nuid": "473d10c4-3785-482b-8897-21eaa79222c4",
     "showTitle": false,
     "title": ""
    }
   },
   "outputs": [],
   "source": [
    "def get_sig_p_values(p_val_arr, sig_level = 0.05):\n",
    "    ct = 0\n",
    "    for x in p_val_arr:\n",
    "        if x > sig_level:\n",
    "            ct += 1\n",
    "    return ct"
   ]
  },
  {
   "cell_type": "code",
   "execution_count": 15,
   "metadata": {
    "application/vnd.databricks.v1+cell": {
     "cellMetadata": {
      "byteLimit": 2048000,
      "rowLimit": 10000
     },
     "inputWidgets": {},
     "nuid": "24c7e692-c7c6-46b7-8155-452e46b3a3eb",
     "showTitle": false,
     "title": ""
    }
   },
   "outputs": [
    {
     "name": "stdout",
     "output_type": "stream",
     "text": [
      "6 / 10 p-values are not significant for the assay covariate\n"
     ]
    }
   ],
   "source": [
    "num_sig_assay_p_vals = get_sig_p_values(anova_df_assay_values)\n",
    "print(num_sig_assay_p_vals, '/', len(anova_df_assay_values), 'p-values are not significant for the assay covariate')"
   ]
  },
  {
   "cell_type": "code",
   "execution_count": 16,
   "metadata": {
    "application/vnd.databricks.v1+cell": {
     "cellMetadata": {
      "byteLimit": 2048000,
      "rowLimit": 10000
     },
     "inputWidgets": {},
     "nuid": "142494c4-9b71-4d10-83cb-b308060cf59c",
     "showTitle": false,
     "title": ""
    }
   },
   "outputs": [
    {
     "name": "stdout",
     "output_type": "stream",
     "text": [
      "9 / 10 p-values are not significant for the dataset covariate\n"
     ]
    }
   ],
   "source": [
    "num_sig_dataset_p_vals = get_sig_p_values(anova_df_dataset_values)\n",
    "print(num_sig_dataset_p_vals, '/', len(anova_df_dataset_values), 'p-values are not significant for the dataset covariate')"
   ]
  }
 ],
 "metadata": {
  "application/vnd.databricks.v1+notebook": {
   "dashboards": [],
   "language": "python",
   "notebookMetadata": {
    "pythonIndentUnit": 4
   },
   "notebookName": "batch_effects_anova_analyses",
   "widgets": {}
  },
  "kernelspec": {
   "display_name": "Python 3 (ipykernel)",
   "language": "python",
   "name": "python3"
  },
  "language_info": {
   "codemirror_mode": {
    "name": "ipython",
    "version": 3
   },
   "file_extension": ".py",
   "mimetype": "text/x-python",
   "name": "python",
   "nbconvert_exporter": "python",
   "pygments_lexer": "ipython3",
   "version": "3.10.9"
  }
 },
 "nbformat": 4,
 "nbformat_minor": 1
}
