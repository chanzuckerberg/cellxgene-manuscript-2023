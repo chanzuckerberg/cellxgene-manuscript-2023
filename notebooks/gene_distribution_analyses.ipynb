{
 "cells": [
  {
   "cell_type": "markdown",
   "metadata": {
    "application/vnd.databricks.v1+cell": {
     "cellMetadata": {
      "byteLimit": 2048000,
      "rowLimit": 10000
     },
     "inputWidgets": {},
     "nuid": "8e8bd68e-560e-4070-835d-ba45724ecbb7",
     "showTitle": false,
     "title": ""
    }
   },
   "source": [
    "# Gene Expression Values as a function of Total Gene Count for raw counts, quantile and log CPM normalizations\n",
    "\n",
    "Note that throughout the notebook, we use *'rankit'* and *'quantile normalization'* interchangeably. A brief overview can be found <a href = 'https://en.wikipedia.org/wiki/Quantile_normalization'>here</a>."
   ]
  },
  {
   "cell_type": "code",
   "execution_count": 1,
   "metadata": {},
   "outputs": [
    {
     "name": "stdout",
     "output_type": "stream",
     "text": [
      "Requirement already satisfied: cellxgene-census==1.6.0 in /usr/local/anaconda3/lib/python3.10/site-packages (1.6.0)\n",
      "Requirement already satisfied: s3fs>=2021.06.1 in /usr/local/anaconda3/lib/python3.10/site-packages (from cellxgene-census==1.6.0) (2023.6.0)\n",
      "Requirement already satisfied: tiledbsoma~=1.4.3 in /usr/local/anaconda3/lib/python3.10/site-packages (from cellxgene-census==1.6.0) (1.4.4)\n",
      "Requirement already satisfied: typing-extensions in /usr/local/anaconda3/lib/python3.10/site-packages (from cellxgene-census==1.6.0) (4.4.0)\n",
      "Requirement already satisfied: anndata in /usr/local/anaconda3/lib/python3.10/site-packages (from cellxgene-census==1.6.0) (0.9.1)\n",
      "Requirement already satisfied: scipy<1.11 in /usr/local/anaconda3/lib/python3.10/site-packages (from cellxgene-census==1.6.0) (1.10.0)\n",
      "Requirement already satisfied: numpy<1.25,>=1.21 in /usr/local/anaconda3/lib/python3.10/site-packages (from cellxgene-census==1.6.0) (1.23.5)\n",
      "Requirement already satisfied: requests in /usr/local/anaconda3/lib/python3.10/site-packages (from cellxgene-census==1.6.0) (2.28.1)\n",
      "Requirement already satisfied: aiohttp!=4.0.0a0,!=4.0.0a1 in /usr/local/anaconda3/lib/python3.10/site-packages (from s3fs>=2021.06.1->cellxgene-census==1.6.0) (3.8.5)\n",
      "Requirement already satisfied: aiobotocore~=2.5.0 in /usr/local/anaconda3/lib/python3.10/site-packages (from s3fs>=2021.06.1->cellxgene-census==1.6.0) (2.5.4)\n",
      "Requirement already satisfied: fsspec==2023.6.0 in /usr/local/anaconda3/lib/python3.10/site-packages (from s3fs>=2021.06.1->cellxgene-census==1.6.0) (2023.6.0)\n",
      "Requirement already satisfied: pyarrow>=9.0.0 in /usr/local/anaconda3/lib/python3.10/site-packages (from tiledbsoma~=1.4.3->cellxgene-census==1.6.0) (12.0.1)\n",
      "Requirement already satisfied: pandas in /usr/local/anaconda3/lib/python3.10/site-packages (from tiledbsoma~=1.4.3->cellxgene-census==1.6.0) (1.5.3)\n",
      "Requirement already satisfied: tiledb~=0.22.2 in /usr/local/anaconda3/lib/python3.10/site-packages (from tiledbsoma~=1.4.3->cellxgene-census==1.6.0) (0.22.3)\n",
      "Requirement already satisfied: attrs>=22.2 in /usr/local/anaconda3/lib/python3.10/site-packages (from tiledbsoma~=1.4.3->cellxgene-census==1.6.0) (23.1.0)\n",
      "Requirement already satisfied: somacore==1.0.4 in /usr/local/anaconda3/lib/python3.10/site-packages (from tiledbsoma~=1.4.3->cellxgene-census==1.6.0) (1.0.4)\n",
      "Requirement already satisfied: scanpy>=1.9.2 in /usr/local/anaconda3/lib/python3.10/site-packages (from tiledbsoma~=1.4.3->cellxgene-census==1.6.0) (1.9.3)\n",
      "Requirement already satisfied: numba==0.56.4 in /usr/local/anaconda3/lib/python3.10/site-packages (from tiledbsoma~=1.4.3->cellxgene-census==1.6.0) (0.56.4)\n",
      "Requirement already satisfied: llvmlite<0.40,>=0.39.0dev0 in /usr/local/anaconda3/lib/python3.10/site-packages (from numba==0.56.4->tiledbsoma~=1.4.3->cellxgene-census==1.6.0) (0.39.1)\n",
      "Requirement already satisfied: setuptools in /usr/local/anaconda3/lib/python3.10/site-packages (from numba==0.56.4->tiledbsoma~=1.4.3->cellxgene-census==1.6.0) (65.6.3)\n",
      "Requirement already satisfied: packaging>=20 in /usr/local/anaconda3/lib/python3.10/site-packages (from anndata->cellxgene-census==1.6.0) (22.0)\n",
      "Requirement already satisfied: h5py>=3 in /usr/local/anaconda3/lib/python3.10/site-packages (from anndata->cellxgene-census==1.6.0) (3.7.0)\n",
      "Requirement already satisfied: natsort in /usr/local/anaconda3/lib/python3.10/site-packages (from anndata->cellxgene-census==1.6.0) (8.4.0)\n",
      "Requirement already satisfied: idna<4,>=2.5 in /usr/local/anaconda3/lib/python3.10/site-packages (from requests->cellxgene-census==1.6.0) (3.4)\n",
      "Requirement already satisfied: urllib3<1.27,>=1.21.1 in /usr/local/anaconda3/lib/python3.10/site-packages (from requests->cellxgene-census==1.6.0) (1.26.14)\n",
      "Requirement already satisfied: charset-normalizer<3,>=2 in /usr/local/anaconda3/lib/python3.10/site-packages (from requests->cellxgene-census==1.6.0) (2.0.4)\n",
      "Requirement already satisfied: certifi>=2017.4.17 in /usr/local/anaconda3/lib/python3.10/site-packages (from requests->cellxgene-census==1.6.0) (2022.12.7)\n",
      "Requirement already satisfied: wrapt<2.0.0,>=1.10.10 in /usr/local/anaconda3/lib/python3.10/site-packages (from aiobotocore~=2.5.0->s3fs>=2021.06.1->cellxgene-census==1.6.0) (1.14.1)\n",
      "Requirement already satisfied: botocore<1.31.18,>=1.31.17 in /usr/local/anaconda3/lib/python3.10/site-packages (from aiobotocore~=2.5.0->s3fs>=2021.06.1->cellxgene-census==1.6.0) (1.31.17)\n",
      "Requirement already satisfied: aioitertools<1.0.0,>=0.5.1 in /usr/local/anaconda3/lib/python3.10/site-packages (from aiobotocore~=2.5.0->s3fs>=2021.06.1->cellxgene-census==1.6.0) (0.11.0)\n",
      "Requirement already satisfied: yarl<2.0,>=1.0 in /usr/local/anaconda3/lib/python3.10/site-packages (from aiohttp!=4.0.0a0,!=4.0.0a1->s3fs>=2021.06.1->cellxgene-census==1.6.0) (1.9.2)\n",
      "Requirement already satisfied: frozenlist>=1.1.1 in /usr/local/anaconda3/lib/python3.10/site-packages (from aiohttp!=4.0.0a0,!=4.0.0a1->s3fs>=2021.06.1->cellxgene-census==1.6.0) (1.4.0)\n",
      "Requirement already satisfied: async-timeout<5.0,>=4.0.0a3 in /usr/local/anaconda3/lib/python3.10/site-packages (from aiohttp!=4.0.0a0,!=4.0.0a1->s3fs>=2021.06.1->cellxgene-census==1.6.0) (4.0.2)\n",
      "Requirement already satisfied: aiosignal>=1.1.2 in /usr/local/anaconda3/lib/python3.10/site-packages (from aiohttp!=4.0.0a0,!=4.0.0a1->s3fs>=2021.06.1->cellxgene-census==1.6.0) (1.3.1)\n",
      "Requirement already satisfied: multidict<7.0,>=4.5 in /usr/local/anaconda3/lib/python3.10/site-packages (from aiohttp!=4.0.0a0,!=4.0.0a1->s3fs>=2021.06.1->cellxgene-census==1.6.0) (6.0.4)\n",
      "Requirement already satisfied: python-dateutil>=2.8.1 in /usr/local/anaconda3/lib/python3.10/site-packages (from pandas->tiledbsoma~=1.4.3->cellxgene-census==1.6.0) (2.8.2)\n",
      "Requirement already satisfied: pytz>=2020.1 in /usr/local/anaconda3/lib/python3.10/site-packages (from pandas->tiledbsoma~=1.4.3->cellxgene-census==1.6.0) (2022.7)\n",
      "Requirement already satisfied: matplotlib>=3.4 in /usr/local/anaconda3/lib/python3.10/site-packages (from scanpy>=1.9.2->tiledbsoma~=1.4.3->cellxgene-census==1.6.0) (3.7.0)\n",
      "Requirement already satisfied: statsmodels>=0.10.0rc2 in /usr/local/anaconda3/lib/python3.10/site-packages (from scanpy>=1.9.2->tiledbsoma~=1.4.3->cellxgene-census==1.6.0) (0.13.5)\n",
      "Requirement already satisfied: session-info in /usr/local/anaconda3/lib/python3.10/site-packages (from scanpy>=1.9.2->tiledbsoma~=1.4.3->cellxgene-census==1.6.0) (1.0.0)\n",
      "Requirement already satisfied: tqdm in /usr/local/anaconda3/lib/python3.10/site-packages (from scanpy>=1.9.2->tiledbsoma~=1.4.3->cellxgene-census==1.6.0) (4.64.1)\n",
      "Requirement already satisfied: seaborn in /usr/local/anaconda3/lib/python3.10/site-packages (from scanpy>=1.9.2->tiledbsoma~=1.4.3->cellxgene-census==1.6.0) (0.12.2)\n",
      "Requirement already satisfied: joblib in /usr/local/anaconda3/lib/python3.10/site-packages (from scanpy>=1.9.2->tiledbsoma~=1.4.3->cellxgene-census==1.6.0) (1.1.1)\n",
      "Requirement already satisfied: umap-learn>=0.3.10 in /usr/local/anaconda3/lib/python3.10/site-packages (from scanpy>=1.9.2->tiledbsoma~=1.4.3->cellxgene-census==1.6.0) (0.5.3)\n",
      "Requirement already satisfied: scikit-learn>=0.22 in /usr/local/anaconda3/lib/python3.10/site-packages (from scanpy>=1.9.2->tiledbsoma~=1.4.3->cellxgene-census==1.6.0) (1.2.1)\n",
      "Requirement already satisfied: networkx>=2.3 in /usr/local/anaconda3/lib/python3.10/site-packages (from scanpy>=1.9.2->tiledbsoma~=1.4.3->cellxgene-census==1.6.0) (2.8.4)\n",
      "Requirement already satisfied: patsy in /usr/local/anaconda3/lib/python3.10/site-packages (from scanpy>=1.9.2->tiledbsoma~=1.4.3->cellxgene-census==1.6.0) (0.5.3)\n",
      "Requirement already satisfied: jmespath<2.0.0,>=0.7.1 in /usr/local/anaconda3/lib/python3.10/site-packages (from botocore<1.31.18,>=1.31.17->aiobotocore~=2.5.0->s3fs>=2021.06.1->cellxgene-census==1.6.0) (0.10.0)\n",
      "Requirement already satisfied: pillow>=6.2.0 in /usr/local/anaconda3/lib/python3.10/site-packages (from matplotlib>=3.4->scanpy>=1.9.2->tiledbsoma~=1.4.3->cellxgene-census==1.6.0) (9.4.0)\n",
      "Requirement already satisfied: contourpy>=1.0.1 in /usr/local/anaconda3/lib/python3.10/site-packages (from matplotlib>=3.4->scanpy>=1.9.2->tiledbsoma~=1.4.3->cellxgene-census==1.6.0) (1.0.5)\n",
      "Requirement already satisfied: cycler>=0.10 in /usr/local/anaconda3/lib/python3.10/site-packages (from matplotlib>=3.4->scanpy>=1.9.2->tiledbsoma~=1.4.3->cellxgene-census==1.6.0) (0.11.0)\n",
      "Requirement already satisfied: kiwisolver>=1.0.1 in /usr/local/anaconda3/lib/python3.10/site-packages (from matplotlib>=3.4->scanpy>=1.9.2->tiledbsoma~=1.4.3->cellxgene-census==1.6.0) (1.4.4)\n",
      "Requirement already satisfied: pyparsing>=2.3.1 in /usr/local/anaconda3/lib/python3.10/site-packages (from matplotlib>=3.4->scanpy>=1.9.2->tiledbsoma~=1.4.3->cellxgene-census==1.6.0) (3.0.9)\n",
      "Requirement already satisfied: fonttools>=4.22.0 in /usr/local/anaconda3/lib/python3.10/site-packages (from matplotlib>=3.4->scanpy>=1.9.2->tiledbsoma~=1.4.3->cellxgene-census==1.6.0) (4.25.0)\n"
     ]
    },
    {
     "name": "stdout",
     "output_type": "stream",
     "text": [
      "Requirement already satisfied: six>=1.5 in /usr/local/anaconda3/lib/python3.10/site-packages (from python-dateutil>=2.8.1->pandas->tiledbsoma~=1.4.3->cellxgene-census==1.6.0) (1.16.0)\n",
      "Requirement already satisfied: threadpoolctl>=2.0.0 in /usr/local/anaconda3/lib/python3.10/site-packages (from scikit-learn>=0.22->scanpy>=1.9.2->tiledbsoma~=1.4.3->cellxgene-census==1.6.0) (2.2.0)\n",
      "Requirement already satisfied: pynndescent>=0.5 in /usr/local/anaconda3/lib/python3.10/site-packages (from umap-learn>=0.3.10->scanpy>=1.9.2->tiledbsoma~=1.4.3->cellxgene-census==1.6.0) (0.5.10)\n",
      "Requirement already satisfied: stdlib-list in /usr/local/anaconda3/lib/python3.10/site-packages (from session-info->scanpy>=1.9.2->tiledbsoma~=1.4.3->cellxgene-census==1.6.0) (0.9.0)\n",
      "Requirement already satisfied: tiledbsoma==1.4.4 in /usr/local/anaconda3/lib/python3.10/site-packages (1.4.4)\n",
      "Requirement already satisfied: pandas in /usr/local/anaconda3/lib/python3.10/site-packages (from tiledbsoma==1.4.4) (1.5.3)\n",
      "Requirement already satisfied: somacore==1.0.4 in /usr/local/anaconda3/lib/python3.10/site-packages (from tiledbsoma==1.4.4) (1.0.4)\n",
      "Requirement already satisfied: scanpy>=1.9.2 in /usr/local/anaconda3/lib/python3.10/site-packages (from tiledbsoma==1.4.4) (1.9.3)\n",
      "Requirement already satisfied: scipy in /usr/local/anaconda3/lib/python3.10/site-packages (from tiledbsoma==1.4.4) (1.10.0)\n",
      "Requirement already satisfied: numba==0.56.4 in /usr/local/anaconda3/lib/python3.10/site-packages (from tiledbsoma==1.4.4) (0.56.4)\n",
      "Requirement already satisfied: attrs>=22.2 in /usr/local/anaconda3/lib/python3.10/site-packages (from tiledbsoma==1.4.4) (23.1.0)\n",
      "Requirement already satisfied: tiledb~=0.22.2 in /usr/local/anaconda3/lib/python3.10/site-packages (from tiledbsoma==1.4.4) (0.22.3)\n",
      "Requirement already satisfied: typing-extensions in /usr/local/anaconda3/lib/python3.10/site-packages (from tiledbsoma==1.4.4) (4.4.0)\n",
      "Requirement already satisfied: anndata in /usr/local/anaconda3/lib/python3.10/site-packages (from tiledbsoma==1.4.4) (0.9.1)\n",
      "Requirement already satisfied: pyarrow>=9.0.0 in /usr/local/anaconda3/lib/python3.10/site-packages (from tiledbsoma==1.4.4) (12.0.1)\n",
      "Requirement already satisfied: numpy<1.24,>=1.18 in /usr/local/anaconda3/lib/python3.10/site-packages (from tiledbsoma==1.4.4) (1.23.5)\n",
      "Requirement already satisfied: llvmlite<0.40,>=0.39.0dev0 in /usr/local/anaconda3/lib/python3.10/site-packages (from numba==0.56.4->tiledbsoma==1.4.4) (0.39.1)\n",
      "Requirement already satisfied: setuptools in /usr/local/anaconda3/lib/python3.10/site-packages (from numba==0.56.4->tiledbsoma==1.4.4) (65.6.3)\n",
      "Requirement already satisfied: patsy in /usr/local/anaconda3/lib/python3.10/site-packages (from scanpy>=1.9.2->tiledbsoma==1.4.4) (0.5.3)\n",
      "Requirement already satisfied: statsmodels>=0.10.0rc2 in /usr/local/anaconda3/lib/python3.10/site-packages (from scanpy>=1.9.2->tiledbsoma==1.4.4) (0.13.5)\n",
      "Requirement already satisfied: networkx>=2.3 in /usr/local/anaconda3/lib/python3.10/site-packages (from scanpy>=1.9.2->tiledbsoma==1.4.4) (2.8.4)\n",
      "Requirement already satisfied: natsort in /usr/local/anaconda3/lib/python3.10/site-packages (from scanpy>=1.9.2->tiledbsoma==1.4.4) (8.4.0)\n",
      "Requirement already satisfied: session-info in /usr/local/anaconda3/lib/python3.10/site-packages (from scanpy>=1.9.2->tiledbsoma==1.4.4) (1.0.0)\n",
      "Requirement already satisfied: seaborn in /usr/local/anaconda3/lib/python3.10/site-packages (from scanpy>=1.9.2->tiledbsoma==1.4.4) (0.12.2)\n",
      "Requirement already satisfied: joblib in /usr/local/anaconda3/lib/python3.10/site-packages (from scanpy>=1.9.2->tiledbsoma==1.4.4) (1.1.1)\n",
      "Requirement already satisfied: umap-learn>=0.3.10 in /usr/local/anaconda3/lib/python3.10/site-packages (from scanpy>=1.9.2->tiledbsoma==1.4.4) (0.5.3)\n",
      "Requirement already satisfied: packaging in /usr/local/anaconda3/lib/python3.10/site-packages (from scanpy>=1.9.2->tiledbsoma==1.4.4) (22.0)\n",
      "Requirement already satisfied: h5py>=3 in /usr/local/anaconda3/lib/python3.10/site-packages (from scanpy>=1.9.2->tiledbsoma==1.4.4) (3.7.0)\n",
      "Requirement already satisfied: matplotlib>=3.4 in /usr/local/anaconda3/lib/python3.10/site-packages (from scanpy>=1.9.2->tiledbsoma==1.4.4) (3.7.0)\n",
      "Requirement already satisfied: scikit-learn>=0.22 in /usr/local/anaconda3/lib/python3.10/site-packages (from scanpy>=1.9.2->tiledbsoma==1.4.4) (1.2.1)\n",
      "Requirement already satisfied: tqdm in /usr/local/anaconda3/lib/python3.10/site-packages (from scanpy>=1.9.2->tiledbsoma==1.4.4) (4.64.1)\n",
      "Requirement already satisfied: python-dateutil>=2.8.1 in /usr/local/anaconda3/lib/python3.10/site-packages (from pandas->tiledbsoma==1.4.4) (2.8.2)\n",
      "Requirement already satisfied: pytz>=2020.1 in /usr/local/anaconda3/lib/python3.10/site-packages (from pandas->tiledbsoma==1.4.4) (2022.7)\n",
      "Requirement already satisfied: fonttools>=4.22.0 in /usr/local/anaconda3/lib/python3.10/site-packages (from matplotlib>=3.4->scanpy>=1.9.2->tiledbsoma==1.4.4) (4.25.0)\n",
      "Requirement already satisfied: kiwisolver>=1.0.1 in /usr/local/anaconda3/lib/python3.10/site-packages (from matplotlib>=3.4->scanpy>=1.9.2->tiledbsoma==1.4.4) (1.4.4)\n",
      "Requirement already satisfied: pyparsing>=2.3.1 in /usr/local/anaconda3/lib/python3.10/site-packages (from matplotlib>=3.4->scanpy>=1.9.2->tiledbsoma==1.4.4) (3.0.9)\n",
      "Requirement already satisfied: contourpy>=1.0.1 in /usr/local/anaconda3/lib/python3.10/site-packages (from matplotlib>=3.4->scanpy>=1.9.2->tiledbsoma==1.4.4) (1.0.5)\n",
      "Requirement already satisfied: cycler>=0.10 in /usr/local/anaconda3/lib/python3.10/site-packages (from matplotlib>=3.4->scanpy>=1.9.2->tiledbsoma==1.4.4) (0.11.0)\n",
      "Requirement already satisfied: pillow>=6.2.0 in /usr/local/anaconda3/lib/python3.10/site-packages (from matplotlib>=3.4->scanpy>=1.9.2->tiledbsoma==1.4.4) (9.4.0)\n",
      "Requirement already satisfied: six>=1.5 in /usr/local/anaconda3/lib/python3.10/site-packages (from python-dateutil>=2.8.1->pandas->tiledbsoma==1.4.4) (1.16.0)\n",
      "Requirement already satisfied: threadpoolctl>=2.0.0 in /usr/local/anaconda3/lib/python3.10/site-packages (from scikit-learn>=0.22->scanpy>=1.9.2->tiledbsoma==1.4.4) (2.2.0)\n",
      "Requirement already satisfied: pynndescent>=0.5 in /usr/local/anaconda3/lib/python3.10/site-packages (from umap-learn>=0.3.10->scanpy>=1.9.2->tiledbsoma==1.4.4) (0.5.10)\n",
      "Requirement already satisfied: stdlib-list in /usr/local/anaconda3/lib/python3.10/site-packages (from session-info->scanpy>=1.9.2->tiledbsoma==1.4.4) (0.9.0)\n"
     ]
    }
   ],
   "source": [
    "!pip install cellxgene-census==1.6.0\n",
    "!pip install tiledbsoma==1.4.4"
   ]
  },
  {
   "cell_type": "code",
   "execution_count": 2,
   "metadata": {
    "application/vnd.databricks.v1+cell": {
     "cellMetadata": {
      "byteLimit": 2048000,
      "rowLimit": 10000
     },
     "inputWidgets": {},
     "nuid": "a67b0722-0119-4147-872a-e6a385cbc0b5",
     "showTitle": false,
     "title": ""
    }
   },
   "outputs": [],
   "source": [
    "import json\n",
    "import plotly.express as px\n",
    "from plotly.subplots import make_subplots\n",
    "import plotly.graph_objects as go\n",
    "from sklearn.linear_model import LinearRegression\n",
    "import numpy as np\n",
    "import statsmodels.api as sm\n",
    "lowess = sm.nonparametric.lowess\n",
    "import warnings\n",
    "warnings.filterwarnings('ignore')"
   ]
  },
  {
   "cell_type": "markdown",
   "metadata": {
    "application/vnd.databricks.v1+cell": {
     "cellMetadata": {
      "byteLimit": 2048000,
      "rowLimit": 10000
     },
     "inputWidgets": {},
     "nuid": "47810eb6-cacd-4304-83ab-d00f1450a168",
     "showTitle": false,
     "title": ""
    }
   },
   "source": [
    "## Marker + Housekeeping Genes"
   ]
  },
  {
   "cell_type": "code",
   "execution_count": 3,
   "metadata": {
    "application/vnd.databricks.v1+cell": {
     "cellMetadata": {
      "byteLimit": 2048000,
      "rowLimit": 10000
     },
     "inputWidgets": {},
     "nuid": "9685a5c4-7714-4c78-8c67-ebaf80ea444b",
     "showTitle": false,
     "title": ""
    }
   },
   "outputs": [],
   "source": [
    "NUM_MIN_EXPRESSED_GENES_PER_CELL = 500\n",
    "NUM_MIN_ULTRA_LOW_EXPRESSED_GENES = 2\n",
    "CENSUS_VERSION = \"2023-10-18\"\n",
    "ASSAYS = ['sci-RNA-seq', 'Seq-Well', 'Drop-seq', 'CEL-seq2', \"10x 3\\\\' v1\", \"10x 5\\\\' v1\", \"10x 3\\\\' v2\", \"10x 5\\\\' v2\", \"10x 3\\\\' v3\", \"10x 3\\\\' transcription profiling\", \"10x 5\\\\' transcription profiling\", \"10x technology\"]\n",
    "HOUSEKEEPING_GENES = ['MALAT1', 'ACTB', 'GAPDH', 'UBC', 'SDHA', 'YWHAZ', 'PGK1', 'PPIA', 'RPL13A', 'RPLP0', 'B2M']\n",
    "NUM_MARKER_GENES = 5\n",
    "\n",
    "contents_cell_types = open('../data/data_tidy/overlapping_categories.json').read()\n",
    "contents_marker_genes = open('../data/data_raw/hubmap_marker_genes.json').read()\n",
    "tissue2cell_types = json.loads(contents_cell_types)\n",
    "marker_genes = json.loads(contents_marker_genes)\n",
    "\n",
    "cell_type_mapping = {\n",
    "    'CL:4028006' : 'alveolar type 2 fibroblast cell',\n",
    "    'CL:0000525' : 'syncytiotrophoblast cell',\n",
    "    'CL:0000786' : 'plasma cell',\n",
    "    'CL:0000895' : 'naive thymus-derived CD4-positive, alpha-beta T cell',\n",
    "    'CL:0000909' : 'CD8-positive, alpha-beta memory T cell',\n",
    "    'CL:0000071' : 'blood vessel endothelial cell',\n",
    "    'CL:0000899' : 'T-helper 17 cell',\n",
    "    'CL:0000084' : 'T cell',\n",
    "    'CL:1001106' : 'kidney loop of Henle thick ascending limb epithelial cell'\n",
    "}\n",
    "mapping2cell_type = {v:k for k, v in cell_type_mapping.items()}\n",
    "\n",
    "def get_marker_genes(tissue, cell_type):\n",
    "    return [entry['symbol'] for entry in marker_genes[mapping2cell_type[cell_type]] if entry['tissue'] == tissue]"
   ]
  },
  {
   "cell_type": "markdown",
   "metadata": {
    "application/vnd.databricks.v1+cell": {
     "cellMetadata": {
      "byteLimit": 2048000,
      "rowLimit": 10000
     },
     "inputWidgets": {},
     "nuid": "15ddf219-4e35-472e-a89b-b835cea8b2ae",
     "showTitle": false,
     "title": ""
    }
   },
   "source": [
    "## Rankit Implementation"
   ]
  },
  {
   "cell_type": "code",
   "execution_count": null,
   "metadata": {
    "application/vnd.databricks.v1+cell": {
     "cellMetadata": {
      "byteLimit": 2048000,
      "rowLimit": 10000
     },
     "inputWidgets": {},
     "nuid": "f3d3ac17-bb29-4d76-a6b4-c1ebd2062f78",
     "showTitle": false,
     "title": ""
    }
   },
   "outputs": [],
   "source": [
    "import cellxgene_census\n",
    "import numpy as np\n",
    "import numba as nb\n",
    "from scipy import stats\n",
    "import scipy \n",
    "import pandas as pd\n",
    "import scanpy as sc\n",
    "\n",
    "\n",
    "@nb.jit\n",
    "def quantiles(max_rank: int, ranks: np.ndarray) -> np.ndarray:\n",
    "    \"\"\"\n",
    "    :returns an array of n floats equally spaced from 0 to 1\n",
    "    \"\"\"\n",
    "    return np.array([np.round((i - 0.5) / max_rank, 5) for i in ranks])\n",
    "\n",
    "\n",
    "def rankit(Xraw: scipy.sparse.spmatrix, offset: float = 3.0) -> scipy.sparse.csr_matrix:\n",
    "    \"\"\"\n",
    "    Row-wise normalizes values of a matrix using the rankit method. The target distribution is a normal distribution\n",
    "    with variance of 1 and mean as set in `offset`\n",
    "    https://en.wikipedia.org/wiki/Rankit\n",
    "    In statistics, rankits of a set of data are the expected values of the order statistics of\n",
    "    a sample from the standard normal distribution the same size as the data\n",
    "    Caveat: equal values are ranked in undefined order.\n",
    "    param Xraw: query matrix to be normalized\n",
    "    param offset: mean for the resulting row-wise values that will follow a normal distribution with variance 1. This\n",
    "    helps to shift values to a positive scale.\n",
    "    :returns row-wise normalized matrix using rankit\n",
    "    \"\"\"\n",
    "    X = Xraw.tocsr(copy=True)  # get Compressed Sparse Row format of raw expression values matrix\n",
    "    indptr = X.indptr  # get row count\n",
    "    warning_raised = False\n",
    "    for row in range(0, indptr.shape[0] - 1):\n",
    "        data = X.data[indptr[row] : indptr[row + 1]]\n",
    "        if len(data) > 0:\n",
    "            # Assign ranks to data, assigning the same value to ties\n",
    "            ranks = stats.rankdata(data, method=\"dense\")\n",
    "\n",
    "            max_rank = max(ranks)\n",
    "            prob_level = quantiles(max_rank, ranks)\n",
    "\n",
    "            normal_quantiles = stats.norm.ppf(prob_level, loc=offset)\n",
    "            X.data[indptr[row] : indptr[row + 1]] = normal_quantiles\n",
    "        elif not warning_raised:\n",
    "            print(\"This dataset has at least one row of all zero expressions\")\n",
    "            warning_raised = True\n",
    "    return X"
   ]
  },
  {
   "cell_type": "markdown",
   "metadata": {
    "application/vnd.databricks.v1+cell": {
     "cellMetadata": {
      "byteLimit": 2048000,
      "rowLimit": 10000
     },
     "inputWidgets": {},
     "nuid": "5dc70134-d1b6-4f4d-9ee9-5e6cfa852572",
     "showTitle": false,
     "title": ""
    }
   },
   "source": [
    "## Analyses"
   ]
  },
  {
   "cell_type": "markdown",
   "metadata": {
    "application/vnd.databricks.v1+cell": {
     "cellMetadata": {
      "byteLimit": 2048000,
      "rowLimit": 10000
     },
     "inputWidgets": {},
     "nuid": "8526e8b1-762b-4368-91e6-07cf41991ea3",
     "showTitle": false,
     "title": ""
    }
   },
   "source": [
    "### Get metadata"
   ]
  },
  {
   "cell_type": "code",
   "execution_count": null,
   "metadata": {
    "application/vnd.databricks.v1+cell": {
     "cellMetadata": {
      "byteLimit": 2048000,
      "rowLimit": 10000
     },
     "inputWidgets": {},
     "nuid": "d1b6aabd-7ef6-4168-8979-3737cb943a13",
     "showTitle": false,
     "title": ""
    }
   },
   "outputs": [],
   "source": [
    "def get_census_query(cell_types, tissues, assays):\n",
    "    \"\"\"\n",
    "    Returns a value filter query for the census to retrieve data for \n",
    "    a given array of cell types, tissues and assays\n",
    "\n",
    "    param cell_types: the cell_types to retrieve from the census\n",
    "    param tissues: the tissues the cell_types are found in\n",
    "    param assays: the assays corresponding to the cell_types and tissues\n",
    "\n",
    "    :returns the value_filter query\n",
    "    \"\"\"\n",
    "    value_filter = \"is_primary_data == True and cell_type in [\" \n",
    "    for cell_type in cell_types:\n",
    "        value_filter += \"'\" + cell_type.replace(\"'\", \"\\\\'\") + \"', \"\n",
    "    value_filter = value_filter[:-2] + \"] and tissue_general in [\"\n",
    "    for tissue in tissues:\n",
    "        value_filter += \"'\" + tissue + \"', \"\n",
    "    value_filter = value_filter[:-2] + \"] and assay in [\"\n",
    "    for assay in assays:\n",
    "        value_filter += \"'\" + assay + \"', \"\n",
    "    value_filter = value_filter[:-2] + \"]\"\n",
    "    return value_filter"
   ]
  },
  {
   "cell_type": "code",
   "execution_count": null,
   "metadata": {
    "application/vnd.databricks.v1+cell": {
     "cellMetadata": {
      "byteLimit": 2048000,
      "rowLimit": 10000
     },
     "inputWidgets": {},
     "nuid": "c758adfd-687d-4bcf-acef-2ecff70c98f9",
     "showTitle": false,
     "title": ""
    }
   },
   "outputs": [],
   "source": [
    "def get_census_metadata(cell_types, tissues, assays, census):\n",
    "    \"\"\"\n",
    "    Queries the census to retrieve metadata for a given array of cell_types, tissues and assays\n",
    "\n",
    "    param cell_types: the cell_types to retrieve metadata for\n",
    "    param tissues: the tissues the cell_types are found in\n",
    "    param assays: the assays corresponding to the cell_types and tissues\n",
    "\n",
    "    :returns\n",
    "        metadata: metadata retrieved from the census \n",
    "        census_query: the query used to retrieve the metadata from cellxgene_census\n",
    "        genes: the set of corresponding genes from the census\n",
    "    \"\"\"\n",
    "    census_query = get_census_query(cell_types, tissues, assays)\n",
    "    \n",
    "    # Reads SOMADataFrame as a slice\n",
    "    metadata = census[\"census_data\"][\"homo_sapiens\"].obs.read(\n",
    "        value_filter = census_query,\n",
    "        column_names = [\"soma_joinid\", \"assay\", \"dataset_id\", \"cell_type\", \"tissue\", \"tissue_general\", \"suspension_type\", \"disease\", \"donor_id\", \"raw_sum\"]\n",
    "    )\n",
    "\n",
    "    genes = census[\"census_data\"][\"homo_sapiens\"].ms[\"RNA\"].var.read().concat().to_pandas()\n",
    "        \n",
    "    # Concatenates results to pyarrow.Table\n",
    "    metadata = metadata.concat()\n",
    "    \n",
    "    # Converts to pandas.DataFrame\n",
    "    metadata = metadata.to_pandas()\n",
    "    # metadata['cell_type'] = metadata['cell_type'].apply(lambda x: cell_type2parents[x])\n",
    "        \n",
    "    print('There are', len(metadata), 'observations')\n",
    "    return metadata, census_query, genes"
   ]
  },
  {
   "cell_type": "markdown",
   "metadata": {
    "application/vnd.databricks.v1+cell": {
     "cellMetadata": {
      "byteLimit": 2048000,
      "rowLimit": 10000
     },
     "inputWidgets": {},
     "nuid": "e4a94fee-7080-4781-8a52-c4dffa06e66c",
     "showTitle": false,
     "title": ""
    }
   },
   "source": [
    "### Get X iteratively and perform normalizations\n",
    "**1. Pre-processing**\n",
    "- *Remove cells with <500 expressed genes*\n",
    "\n",
    "**2. Normalizations**\n",
    "1. Rankit\n",
    "2. log CPM\n",
    "\n",
    "**3. Post-processing** <br>\n",
    "- *Removal of Noisy Ultra-low Expression Values* <br>\n",
    "After applying normalization, any gene/cell combination that had counts less or equal than 2 are set to missing data. This allows for removal of noise due to ultra-lowly expressed genes and provides a cleaner visualization.\n"
   ]
  },
  {
   "cell_type": "code",
   "execution_count": null,
   "metadata": {
    "application/vnd.databricks.v1+cell": {
     "cellMetadata": {
      "byteLimit": 2048000,
      "rowLimit": 10000
     },
     "inputWidgets": {},
     "nuid": "ba580736-62eb-4452-90a6-468c9c5e9d2f",
     "showTitle": false,
     "title": ""
    }
   },
   "outputs": [],
   "source": [
    "from cellxgene_census.experimental.util import X_sparse_iter\n",
    "import tiledbsoma as soma\n",
    "\n",
    "def get_raw_count_data_and_normalize(cell_type, tissue, assays):\n",
    "    \"\"\"\n",
    "    Retrieves raw counts data from the census for a given cell_type, tissue and set of assays \n",
    "    and performs quantile normalization and log (CPM) normalizations. Data is retrieved in batches.\n",
    "\n",
    "    param cell_type: cell_type to get data for\n",
    "    param tissue: corresponding tissue for the cell_type\n",
    "    param assays: assays corresponding to the cell_type and tissue\n",
    "\n",
    "    :returns\n",
    "        all_X_raw_counts: raw counts data\n",
    "        all_X_rankit: quantile normalized data\n",
    "        all_X_log_cpm: log (CPM) normalized data\n",
    "        genes: the set of corresponding genes from the census\n",
    "    \"\"\"\n",
    "    with cellxgene_census.open_soma(census_version=CENSUS_VERSION) as census:\n",
    "        tissues = [tissue]\n",
    "        cell_types = [cell_type]\n",
    "\n",
    "        metadata, value_filter, genes = get_census_metadata(cell_types, tissues, assays, census)\n",
    "        exp = census[\"census_data\"][\"homo_sapiens\"]\n",
    "        query = exp.axis_query(\n",
    "        measurement_name = \"RNA\",\n",
    "        obs_query = soma.AxisQuery(\n",
    "            value_filter = value_filter\n",
    "        ))\n",
    "        all_obs_soma_joinids = []\n",
    "        all_var_soma_joinids = []\n",
    "        all_X_raw_counts = None\n",
    "        all_X_rankit = None\n",
    "        all_X_log_cpm = None\n",
    "\n",
    "        i = 0\n",
    "        for (obs_soma_joinids, var_soma_joinids), X_chunk in X_sparse_iter(query, X_name=\"raw\", stride=10000):\n",
    "            print('Parsing chunk Batch:', i)\n",
    "\n",
    "            # Remove cells with < 500 expressed genes\n",
    "            n_obs = X_chunk.shape[0]\n",
    "            non_zero = [X_chunk[i,:].count_nonzero() for i in range(n_obs)]\n",
    "            mask = [i >= NUM_MIN_EXPRESSED_GENES_PER_CELL for i in non_zero]\n",
    "            obs_soma_joinids = obs_soma_joinids[mask]\n",
    "\n",
    "            all_obs_soma_joinids.extend(obs_soma_joinids)\n",
    "            all_var_soma_joinids.extend(var_soma_joinids)\n",
    "\n",
    "            X_chunk = X_chunk[mask, :]\n",
    "\n",
    "            print('\\tCompute rankit values Batch:', i)\n",
    "            # Compute rankit values\n",
    "            X_rankit = rankit(X_chunk)\n",
    "\n",
    "            # Removal of ultra-low expressed genes\n",
    "            nonzero_mask = X_chunk.nonzero()\n",
    "            X_chunk_nonzero = X_chunk[nonzero_mask]\n",
    "            lowly_expressed_mask = np.array(X_chunk_nonzero <= NUM_MIN_ULTRA_LOW_EXPRESSED_GENES)[0]\n",
    "\n",
    "            nonzero_rows_indices = nonzero_mask[0][lowly_expressed_mask]\n",
    "            nonzero_cols_indices = nonzero_mask[1][lowly_expressed_mask]\n",
    "\n",
    "            X_rankit[nonzero_rows_indices, nonzero_cols_indices] = 0\n",
    "            X_rankit.eliminate_zeros()\n",
    "\n",
    "            X_chunk[nonzero_rows_indices, nonzero_cols_indices] = 0\n",
    "            X_chunk.eliminate_zeros()\n",
    "\n",
    "            # Compute log CPM values\n",
    "            print('\\tCompute log CPM values Batch:', i)\n",
    "            library_sizes = np.array(metadata[metadata['soma_joinid'].isin(obs_soma_joinids)]['raw_sum']).reshape(-1, 1)\n",
    "            X_cpm = X_chunk / library_sizes * 1e6\n",
    "            X_log_cpm = scipy.sparse.csr_matrix(np.log(X_cpm + 1))\n",
    "\n",
    "            X_log_cpm[nonzero_rows_indices, nonzero_cols_indices] = 0\n",
    "            X_log_cpm.eliminate_zeros()\n",
    "\n",
    "            if i == 0:\n",
    "                all_X_raw_counts = X_chunk\n",
    "                all_X_rankit = X_rankit    \n",
    "                all_X_log_cpm = X_log_cpm   \n",
    "            else:\n",
    "                all_X_raw_counts = scipy.sparse.vstack((all_X_raw_counts, X_chunk))\n",
    "                all_X_rankit = scipy.sparse.vstack((all_X_rankit, X_rankit))\n",
    "                all_X_log_cpm = scipy.sparse.vstack((all_X_log_cpm, X_log_cpm))\n",
    "            i += 1\n",
    "            # X_chunk is a scipy.csr_matrix of csc_matrix\n",
    "            # For each X_chunk[i, j], the associated soma_joinid is\n",
    "            # obs_soma_joinids[i] and var_soma_joinids[j]\n",
    "    metadata = metadata[metadata['soma_joinid'].isin(all_obs_soma_joinids)]\n",
    "    metadata['m_idx'] = [i for i in range(len(metadata))]\n",
    "\n",
    "    return all_X_raw_counts, all_X_rankit, all_X_log_cpm, genes"
   ]
  },
  {
   "cell_type": "markdown",
   "metadata": {
    "application/vnd.databricks.v1+cell": {
     "cellMetadata": {
      "byteLimit": 2048000,
      "rowLimit": 10000
     },
     "inputWidgets": {},
     "nuid": "f4726390-022a-4f83-a75f-9feb3509fcc9",
     "showTitle": false,
     "title": ""
    }
   },
   "source": [
    "## Generate figures"
   ]
  },
  {
   "cell_type": "code",
   "execution_count": null,
   "metadata": {
    "application/vnd.databricks.v1+cell": {
     "cellMetadata": {
      "byteLimit": 2048000,
      "rowLimit": 10000
     },
     "inputWidgets": {},
     "nuid": "cc1a97f3-2349-4fea-97a6-6e3dc5b0fcad",
     "showTitle": false,
     "title": ""
    }
   },
   "outputs": [],
   "source": [
    "def get_scatter_plot(x, y, gene_name, gene_type, color, showlegend):\n",
    "    \"\"\"\n",
    "    Generate scatter plot for one gene\n",
    "\n",
    "    param x: number of genes expressed in a cell_type\n",
    "    param y: gene expression (raw counts or normalized)\n",
    "    param gene_name: gene_name\n",
    "    param gene_type: marker or housekeeping gene\n",
    "    param color: color to use for scatter plot\n",
    "    param showlegend: True if showing legend\n",
    "\n",
    "    :returns scatter plot figure\n",
    "    \"\"\"\n",
    "    return go.Scatter(x = x, y = y, mode = 'markers', marker=dict(color=color), name = gene_name, legendgroup = gene_type, legendgrouptitle_text = gene_type, showlegend = showlegend)\n",
    "\n",
    "def get_trendline(x, y, color, line_name, gene_type, showlegend):\n",
    "    \"\"\"\n",
    "    Generate trendline plot for one gene\n",
    "\n",
    "    param x: number of genes expressed in a cell_type\n",
    "    param y: predicted gene expression value either through LOESS or LR (whether raw_counts or normalized)\n",
    "    param gene_name: gene_name\n",
    "    param gene_type: marker or housekeeping gene\n",
    "    param color: color to use for scatter plot\n",
    "    param showlegend: True if showing legend\n",
    "\n",
    "    :returns trendline scatter plot figure\n",
    "    \"\"\"\n",
    "    return go.Scatter(x = x, y = y, marker=dict(color=color), name = line_name, legendgroup = gene_type, legendgrouptitle_text = gene_type, showlegend = showlegend)"
   ]
  },
  {
   "cell_type": "code",
   "execution_count": null,
   "metadata": {
    "application/vnd.databricks.v1+cell": {
     "cellMetadata": {
      "byteLimit": 2048000,
      "rowLimit": 10000
     },
     "inputWidgets": {},
     "nuid": "1c6c9ec1-3926-4c82-97a8-16ac9a69af11",
     "showTitle": false,
     "title": ""
    }
   },
   "outputs": [],
   "source": [
    "def get_fig(cell_type, X, marker_gene, housekeeping_gene, num_genes_expressed, method_type, row_num, col_num, genes, showlegend = False):\n",
    "    \"\"\"\n",
    "    Returns one row in the final figure, containing gene expression values (raw or normalized) as a function of number of genes expressed in a cell\n",
    "    for one marker gene and one housekeeping gene in a given cell_type. Also computes Pearson and R2 correlation and LOESS and Linear Regression trendlines.\n",
    "\n",
    "    param cell_type: cell_type to generate figure for\n",
    "    param X: raw counts or normalized gene expression values\n",
    "    param marker_gene: one marker gene\n",
    "    param housekeeping_gene: one housekeeping gene\n",
    "    param num_genes_expressed: vector containing the counts for number of genes expressed in the given cell_type\n",
    "    param method_type: one of 'raw counts', 'quantile normalization' or 'log (CPM)'\n",
    "    param row_num: row number in the final figure\n",
    "    param col_num: 0 for raw_counts, 1 for quantile normalization, 2 for log (CPM)\n",
    "    param genes: the set of corresponding genes from the census\n",
    "    param showlegend: True if to show legend for this row\n",
    "\n",
    "    :returns dictionary containing mappings between fig names and fig objects\n",
    "    \"\"\"\n",
    "    gene_marker_index = [genes[genes['feature_name'] == marker_gene].index.values[0]]\n",
    "    housekeeping_gene_index = [genes[genes['feature_name'] == housekeeping_gene].index.values[0]]\n",
    "\n",
    "    mg_expression_values = X[:, gene_marker_index].toarray().reshape(-1, 1).squeeze()\n",
    "    hg_expression_values = X[:, housekeeping_gene_index].toarray().reshape(-1, 1).squeeze()\n",
    "\n",
    "    df = pd.DataFrame({'gene_expression' : list(mg_expression_values) + list(hg_expression_values), \n",
    "                       'num_genes_expressed' : num_genes_expressed + num_genes_expressed, \n",
    "                       'gene' : [marker_gene] * len(mg_expression_values) + [housekeeping_gene] * len(hg_expression_values),\n",
    "                       'gene_type' : ['marker_gene'] * len(mg_expression_values) + ['housekeeping_gene'] * len(hg_expression_values)})\n",
    "    \n",
    "    df_markers = df[(df['gene_type'] == 'marker_gene') & (df['gene_expression'] != 0)]\n",
    "    df_housekeeping = df[(df['gene_type'] != 'marker_gene') & (df['gene_expression'] != 0)]\n",
    "    num_expressed_mg = len(df_markers)\n",
    "    num_expressed_hg = len(df_housekeeping)\n",
    "\n",
    "    markers_gene_expression = df_markers['gene_expression'].values\n",
    "    markers_num_genes_expressed = df_markers['num_genes_expressed'].values.reshape(-1, 1)\n",
    "\n",
    "    housekeeping_gene_expression = df_housekeeping['gene_expression'].values\n",
    "    housekeeping_num_genes_expressed = df_housekeeping['num_genes_expressed'].values.reshape(-1, 1)\n",
    "\n",
    "    # Linear Regression\n",
    "    reg_mg = LinearRegression().fit(markers_num_genes_expressed, markers_gene_expression)\n",
    "    reg_hg = LinearRegression().fit(housekeeping_num_genes_expressed, housekeeping_gene_expression)\n",
    "\n",
    "    mg_preds_lr = reg_mg.predict(markers_num_genes_expressed)\n",
    "    hg_preds_lr = reg_hg.predict(housekeeping_num_genes_expressed)\n",
    "\n",
    "    # R2 coefficient of determination\n",
    "    r2_mg = reg_mg.score(markers_num_genes_expressed, markers_gene_expression)\n",
    "    r2_hg = reg_hg.score(housekeeping_num_genes_expressed, housekeeping_gene_expression)\n",
    "\n",
    "    # LOESS\n",
    "    mg_preds = np.array(lowess(df_markers['gene_expression'].to_list(), df_markers['num_genes_expressed'].to_list()))\n",
    "    hg_preds = np.array(lowess(df_housekeeping['gene_expression'].to_list(), df_housekeeping['num_genes_expressed'].to_list()))\n",
    "    \n",
    "    # Pearson Correlations\n",
    "    pearson_corr_mg = df_markers.corr('pearson')['num_genes_expressed']['gene_expression']\n",
    "    pearson_corr_hg = df_housekeeping.corr('pearson')['num_genes_expressed']['gene_expression']\n",
    "\n",
    "    if len(df_markers) > 50000:\n",
    "        df_markers = df_markers.sample(50000)\n",
    "        df_housekeeping = df_housekeeping.sample(50000)\n",
    "\n",
    "    fig_mg = get_scatter_plot(df_markers['num_genes_expressed'].to_list(), df_markers['gene_expression'].to_list(), marker_gene, 'Marker', \"#b19fc9\", True)\n",
    "    fig_hg = get_scatter_plot(df_housekeeping['num_genes_expressed'].to_list(), df_housekeeping['gene_expression'].to_list(), housekeeping_gene, 'Housekeeping', \"#88d5d4\", True)\n",
    "\n",
    "    showlegend = (row_num == NUM_MARKER_GENES - 1 and col_num == 2)\n",
    "    trendline_loess_mg = get_trendline(mg_preds[:, 0], mg_preds[:, 1], \"#619c80\", \"LOESS\", 'Marker Genes', showlegend)\n",
    "    trendline_loess_hg = get_trendline(hg_preds[:, 0], hg_preds[:, 1], \"#f3a5ac\", \"Linear Regression\", 'Housekeeping Genes', showlegend)\n",
    "\n",
    "    trendline_lr_mg = get_trendline(df_markers['num_genes_expressed'].to_list(), mg_preds_lr, \"#f3a5ac\", \"LOESS\", 'Marker Genes', showlegend)\n",
    "    trendline_lr_hg = get_trendline(df_housekeeping['num_genes_expressed'].to_list(), hg_preds_lr, \"#f3a5ac\", \"Linear Regression\", 'Housekeeping Genes', showlegend)\n",
    "\n",
    "    if row_num == 0:\n",
    "        title_mg = \"<b><span style='text-decoration:underline;'>\" + method_type + \"</span></b>\"\n",
    "        title_hg = \"<b><span style='text-decoration:underline;'>\" + method_type + \"</span></b>\"\n",
    "    else:\n",
    "        title_mg = \"<br><br><br>\"\n",
    "        title_hg = \"<br><br><br>\"\n",
    "    if col_num % 3 == 1:\n",
    "        title_mg += \"<br><b>\" + marker_gene + \"</b><br>N = \" + str(num_expressed_mg)\n",
    "        title_hg += \"<br><b>\" + housekeeping_gene + \"</b><br>N = \" + str(num_expressed_hg)\n",
    "    else:\n",
    "        title_mg += '<br><br>'\n",
    "        title_hg += '<br><br>'\n",
    "    title_mg += \"<br>Pearson r:\" + f\"{pearson_corr_mg:.4f}\" + \"</b><br>R2 Score:\" + f\"{r2_mg:.4f}\"\n",
    "    title_hg += \"<br>Pearson r:\" + f\"{pearson_corr_hg:.4f}\" + \"</b><br>R2 Score:\" + f\"{r2_hg:.4f}\"\n",
    "\n",
    "    fig_info = {'fig_mg' : fig_mg, \n",
    "                'fig_hg' : fig_hg, \n",
    "                'title_mg' : title_mg, \n",
    "                'title_hg' : title_hg, \n",
    "                'pearson_corr_mg' : pearson_corr_mg, \n",
    "                'pearson_corr_hg' : pearson_corr_hg, \n",
    "                'r2_mg' : r2_mg, \n",
    "                'r2_hg' : r2_hg, \n",
    "                'trendline_loess_mg' : trendline_loess_mg, \n",
    "                'trendline_loess_hg' : trendline_loess_hg, \n",
    "                'trendline_lr_mg' : trendline_lr_mg, \n",
    "                'trendline_lr_hg' : trendline_lr_hg}\n",
    "    return fig_info"
   ]
  },
  {
   "cell_type": "code",
   "execution_count": null,
   "metadata": {
    "application/vnd.databricks.v1+cell": {
     "cellMetadata": {
      "byteLimit": 2048000,
      "rowLimit": 10000
     },
     "inputWidgets": {},
     "nuid": "b5468ef1-dc19-475f-84bb-4d6c04570444",
     "showTitle": false,
     "title": ""
    }
   },
   "outputs": [],
   "source": [
    "def get_mg_hg_information(fig_info_raw_counts, fig_info_rankit, fig_info_log_cpm, metadata_field):\n",
    "    \"\"\"\n",
    "    Returns figure data from raw_counts, quantile normalization and log(CPM) figure dictionaries in an array format\n",
    "    mg stands for marker_gene; hg stands for housekeeping genes\n",
    "\n",
    "    param fig_info_raw_counts: dictionary containing mappings between fig names and fig objects for raw counts data\n",
    "    param fig_info_rankit: dictionary containing mappings between fig names and fig objects for quantile normalization data\n",
    "    param fig_info_log_cpm: dictionary containing mappings between fig names and fig objects for log (CPM) normalized data\n",
    "    \n",
    "    :returns array containing figure information from raw_counts, quantile normalization and log (CPM) for marker and housekeeping genes\n",
    "    \"\"\"\n",
    "    return [fig_info_raw_counts[metadata_field + '_mg'], fig_info_rankit[metadata_field + '_mg'], fig_info_log_cpm[metadata_field + '_mg'], \n",
    "            fig_info_raw_counts[metadata_field + '_hg'], fig_info_rankit[metadata_field + '_hg'], fig_info_log_cpm[metadata_field + '_hg']]"
   ]
  },
  {
   "cell_type": "code",
   "execution_count": null,
   "metadata": {
    "application/vnd.databricks.v1+cell": {
     "cellMetadata": {
      "byteLimit": 2048000,
      "rowLimit": 10000
     },
     "inputWidgets": {},
     "nuid": "56c2ac58-44fe-44a2-a47a-2cd082cc1d66",
     "showTitle": false,
     "title": ""
    }
   },
   "outputs": [],
   "source": [
    "def plot_genes(cell_type, tissue, X_raw, X_rankit, X_log_cpm, num_genes_expressed, housekeeping_genes, num_marker_genes, genes):\n",
    "    \"\"\"\n",
    "    Generates the plots for a given cell_type - gene expression values (raw or normalized) as a function of number of genes expressed in a cell\n",
    "    for a set of marker and housekeeping genes. Also computes Pearson and R2 correlation and LOESS and Linear Regression trendlines.\n",
    "\n",
    "    param X_raw: raw counts data\n",
    "    param X_rankit: quantile normalized data\n",
    "    param X_log_cpm: log (CPM) normalized data\n",
    "    param num_genes_expressed: vector containing the counts for number of genes expressed in the given cell_type\n",
    "    param housekeeping_genes: housekeeping genes to plot\n",
    "    param num_marker_genes: indicates how many maker genes to select.\n",
    "\n",
    "    returns:\n",
    "        corr_df_mg: df containing correlation values for marker genes\n",
    "        corr_df_hg: df containing correlation values for housekeeping genes\n",
    "        r2_df_mg: df containing R2 coeff of determination values for marker genes\n",
    "        r2_df_hg: df containing R2 coeff of determination values for housekeeping genes\n",
    "        fig: final figure \n",
    "    \"\"\"\n",
    "    figures = []\n",
    "    trendlines_loess = []\n",
    "    trendlines_lr = []\n",
    "    titles = []\n",
    "    gene_expression_markers = get_marker_genes(tissue, cell_type)\n",
    "    gene_markers = np.random.choice(gene_expression_markers, min(num_marker_genes, len(gene_expression_markers)), replace = False)\n",
    "    pearson_correlations_mg = []\n",
    "    pearson_correlations_hg = []\n",
    "    r2s_mg = []\n",
    "    r2s_hg = []\n",
    "    housekeeping_genes_small = housekeeping_genes[:num_marker_genes]\n",
    "\n",
    "    row_num = 0\n",
    "    for gene_marker, housekeeping_gene in zip(gene_markers, housekeeping_genes_small):\n",
    "\n",
    "        fig_info_raw_counts = get_fig(cell_type, X_raw, gene_marker, housekeeping_gene, num_genes_expressed, 'Raw Counts', row_num, 0, genes, showlegend = True)\n",
    "        fig_info_rankit = get_fig(cell_type, X_rankit, gene_marker, housekeeping_gene, num_genes_expressed, 'Quantile Normalization', row_num, 1, genes)\n",
    "        fig_info_log_cpm = get_fig(cell_type, X_log_cpm, gene_marker, housekeeping_gene, num_genes_expressed, 'log CPM', row_num, 2, genes)\n",
    "\n",
    "        figures.append(get_mg_hg_information(fig_info_raw_counts, fig_info_rankit, fig_info_log_cpm, 'fig'))\n",
    "        trendlines_loess.append(get_mg_hg_information(fig_info_raw_counts, fig_info_rankit, fig_info_log_cpm, 'trendline_loess'))\n",
    "        trendlines_lr.append(get_mg_hg_information(fig_info_raw_counts, fig_info_rankit, fig_info_log_cpm, 'trendline_lr'))\n",
    "\n",
    "        titles += get_mg_hg_information(fig_info_raw_counts, fig_info_rankit, fig_info_log_cpm, 'title')\n",
    "        pearson_correlations = get_mg_hg_information(fig_info_raw_counts, fig_info_rankit, fig_info_log_cpm, 'pearson_corr')\n",
    "        pearson_correlations_mg.append(pearson_correlations[:3])\n",
    "        pearson_correlations_hg.append(pearson_correlations[3:])\n",
    "\n",
    "        r2s = get_mg_hg_information(fig_info_raw_counts, fig_info_rankit, fig_info_log_cpm, 'r2')\n",
    "        r2s_mg.append(r2s[:3])\n",
    "        r2s_hg.append(r2s[3:])\n",
    "        row_num += 1\n",
    "\n",
    "    pearson_correlations_mg = np.array(pearson_correlations_mg)\n",
    "    pearson_correlations_hg = np.array(pearson_correlations_hg)\n",
    "    r2s_mg = np.array(r2s_mg)\n",
    "    r2s_hg = np.array(r2s_hg)\n",
    "\n",
    "    corr_df_mg = pd.DataFrame({'raw_counts_corr' : pearson_correlations_mg[:, 0], 'rankit_corr' : pearson_correlations_mg[:, 1], 'log_cpm_corr' : pearson_correlations_mg[:, 2], 'gene' : gene_markers})\n",
    "    corr_df_hg = pd.DataFrame({'raw_counts_corr' : pearson_correlations_hg[:, 0], 'rankit_corr' : pearson_correlations_hg[:, 1], 'log_cpm_corr' : pearson_correlations_hg[:, 2], 'gene' : housekeeping_genes_small})\n",
    "    r2_df_mg = pd.DataFrame({'raw_counts_r2' : r2s_mg[:, 0], 'rankit_r2' : r2s_mg[:, 1], 'log_cpm_r2' : r2s_mg[:, 2], 'gene' : gene_markers})\n",
    "    r2_df_hg = pd.DataFrame({'raw_counts_r2' : r2s_hg[:, 0], 'rankit_r2' : r2s_hg[:, 1], 'log_cpm_r2' : r2s_hg[:, 2], 'gene' : housekeeping_genes_small})\n",
    "    fig = make_subplots(rows=len(gene_markers), cols=6, subplot_titles = titles, y_title='Y: Expression Value', x_title='X: Total Gene Count',) \n",
    "\n",
    "    for row, row_figures in enumerate(figures):\n",
    "        for col, figure in enumerate(row_figures):\n",
    "            fig.add_trace(figure, row=row + 1, col=col + 1)\n",
    "            fig.add_trace(trendlines_loess[row][col], row=row + 1, col=col + 1)\n",
    "            fig.add_trace(trendlines_lr[row][col], row=row + 1, col=col + 1)\n",
    "    return corr_df_mg, corr_df_hg, r2_df_mg, r2_df_hg, fig"
   ]
  },
  {
   "cell_type": "code",
   "execution_count": null,
   "metadata": {
    "application/vnd.databricks.v1+cell": {
     "cellMetadata": {
      "byteLimit": 2048000,
      "rowLimit": 10000
     },
     "inputWidgets": {},
     "nuid": "848381b4-069a-4efb-92e9-3dea2d181cad",
     "showTitle": false,
     "title": ""
    }
   },
   "outputs": [],
   "source": [
    "def generate_analyses(cell_type_id, tissue, num_marker_genes):\n",
    "    \"\"\"\n",
    "    Generate analyses for a given cell_type and tissue\n",
    "\n",
    "    param cell_type_id: CL ontology ID of desired cell_type\n",
    "    param tissue: desired tissue\n",
    "    \"\"\"\n",
    "    cell_type = cell_type_mapping[cell_type_id]\n",
    "    X_raw, X_rankit, X_log_cpm, genes = get_raw_count_data_and_normalize(cell_type, tissue, ASSAYS)\n",
    "    num_cells = X_raw.shape[0]\n",
    "    num_genes_expressed = [X_raw[i, :].count_nonzero() for i in range(num_cells)]\n",
    "    corr_df_mg, corr_df_hg, r2_df_mg, r2_df_hg, fig = plot_genes(cell_type, tissue, X_raw, X_rankit, X_log_cpm, num_genes_expressed, HOUSEKEEPING_GENES, num_marker_genes, genes)\n",
    "    fig.update_layout(autosize=False,width=1500,height=1500, title_text =  cell_type + \", \" + tissue + \", N = \" + str(num_cells), title_x=0.5, title_y = 0.98, margin = {'t' : 200}, title_font=dict(size=30))\n",
    "    fig.update_traces(marker=dict(size=2))\n",
    "    display(fig)"
   ]
  },
  {
   "cell_type": "markdown",
   "metadata": {
    "application/vnd.databricks.v1+cell": {
     "cellMetadata": {
      "byteLimit": 2048000,
      "rowLimit": 10000
     },
     "inputWidgets": {},
     "nuid": "9b3cc2a4-33db-4a94-9f60-6ff6b81cffcf",
     "showTitle": false,
     "title": ""
    }
   },
   "source": [
    "### alveolar type 2 fibroblast cell, lung"
   ]
  },
  {
   "cell_type": "code",
   "execution_count": null,
   "metadata": {
    "application/vnd.databricks.v1+cell": {
     "cellMetadata": {
      "byteLimit": 2048000,
      "rowLimit": 10000
     },
     "inputWidgets": {},
     "nuid": "4cbbac08-2478-4f38-bb7b-ce97292d3bb0",
     "showTitle": false,
     "title": ""
    },
    "scrolled": false
   },
   "outputs": [],
   "source": [
    "generate_analyses('CL:4028006', 'lung', 5)"
   ]
  },
  {
   "cell_type": "markdown",
   "metadata": {
    "application/vnd.databricks.v1+cell": {
     "cellMetadata": {
      "byteLimit": 2048000,
      "rowLimit": 10000
     },
     "inputWidgets": {},
     "nuid": "d36b7e0b-b837-4839-b20a-4117e7253d5c",
     "showTitle": false,
     "title": ""
    }
   },
   "source": [
    "### syncytiotrophoblast cell, placenta"
   ]
  },
  {
   "cell_type": "code",
   "execution_count": null,
   "metadata": {
    "application/vnd.databricks.v1+cell": {
     "cellMetadata": {
      "byteLimit": 2048000,
      "rowLimit": 10000
     },
     "inputWidgets": {},
     "nuid": "20b2eb2e-2eba-4b48-94d6-52441c651233",
     "showTitle": false,
     "title": ""
    }
   },
   "outputs": [],
   "source": [
    "generate_analyses('CL:0000525', 'placenta', 4)"
   ]
  },
  {
   "cell_type": "markdown",
   "metadata": {
    "application/vnd.databricks.v1+cell": {
     "cellMetadata": {
      "byteLimit": 2048000,
      "rowLimit": 10000
     },
     "inputWidgets": {},
     "nuid": "a6f78a01-5ffc-40e8-a015-2bc65607bd98",
     "showTitle": false,
     "title": ""
    }
   },
   "source": [
    "### plasma cell, lymph node"
   ]
  },
  {
   "cell_type": "code",
   "execution_count": null,
   "metadata": {
    "application/vnd.databricks.v1+cell": {
     "cellMetadata": {
      "byteLimit": 2048000,
      "rowLimit": 10000
     },
     "inputWidgets": {},
     "nuid": "0e9a63ad-937d-4f96-a1c2-cee0d3ae3233",
     "showTitle": false,
     "title": ""
    }
   },
   "outputs": [],
   "source": [
    "generate_analyses('CL:0000786', 'lymph node', 4)"
   ]
  },
  {
   "cell_type": "markdown",
   "metadata": {
    "application/vnd.databricks.v1+cell": {
     "cellMetadata": {
      "byteLimit": 2048000,
      "rowLimit": 10000
     },
     "inputWidgets": {},
     "nuid": "aad84b1e-5e6d-4c59-bd3b-5cc835af7c3a",
     "showTitle": false,
     "title": ""
    }
   },
   "source": [
    "### plasma cell, bone marrow"
   ]
  },
  {
   "cell_type": "code",
   "execution_count": null,
   "metadata": {
    "application/vnd.databricks.v1+cell": {
     "cellMetadata": {
      "byteLimit": 2048000,
      "rowLimit": 10000
     },
     "inputWidgets": {},
     "nuid": "c038a770-67ca-442c-b294-925ff29dc5e8",
     "showTitle": false,
     "title": ""
    }
   },
   "outputs": [],
   "source": [
    "generate_analyses('CL:0000786', 'bone marrow', 5)"
   ]
  },
  {
   "cell_type": "markdown",
   "metadata": {
    "application/vnd.databricks.v1+cell": {
     "cellMetadata": {
      "byteLimit": 2048000,
      "rowLimit": 10000
     },
     "inputWidgets": {},
     "nuid": "394b56d3-e7a0-46e9-b419-9396d64125bb",
     "showTitle": false,
     "title": ""
    }
   },
   "source": [
    "### T cell, kidney"
   ]
  },
  {
   "cell_type": "code",
   "execution_count": null,
   "metadata": {
    "application/vnd.databricks.v1+cell": {
     "cellMetadata": {
      "byteLimit": 2048000,
      "rowLimit": 10000
     },
     "inputWidgets": {},
     "nuid": "a9939518-458c-4cb3-bf25-c57420478b6b",
     "showTitle": false,
     "title": ""
    }
   },
   "outputs": [],
   "source": [
    "generate_analyses('CL:0000084', 'kidney', 5)"
   ]
  }
 ],
 "metadata": {
  "application/vnd.databricks.v1+notebook": {
   "dashboards": [],
   "language": "python",
   "notebookMetadata": {
    "pythonIndentUnit": 4
   },
   "notebookName": "gene_distribution_analyses",
   "widgets": {}
  },
  "kernelspec": {
   "display_name": "Python 3 (ipykernel)",
   "language": "python",
   "name": "python3"
  },
  "language_info": {
   "codemirror_mode": {
    "name": "ipython",
    "version": 3
   },
   "file_extension": ".py",
   "mimetype": "text/x-python",
   "name": "python",
   "nbconvert_exporter": "python",
   "pygments_lexer": "ipython3",
   "version": "3.10.9"
  }
 },
 "nbformat": 4,
 "nbformat_minor": 1
}
